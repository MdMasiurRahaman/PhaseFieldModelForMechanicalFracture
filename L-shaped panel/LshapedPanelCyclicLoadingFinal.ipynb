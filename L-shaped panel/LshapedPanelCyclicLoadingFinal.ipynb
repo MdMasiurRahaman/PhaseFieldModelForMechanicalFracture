{
 "cells": [
  {
   "cell_type": "code",
   "execution_count": null,
   "id": "primary-herald",
   "metadata": {},
   "outputs": [],
   "source": [
    "using  Gmsh: gmsh\n",
    "using  GridapGmsh\n",
    "using  Gridap\n",
    "using  Gridap.Geometry\n",
    "using  Gridap.TensorValues\n",
    "using  PyPlot"
   ]
  },
  {
   "cell_type": "code",
   "execution_count": null,
   "id": "about-intake",
   "metadata": {},
   "outputs": [],
   "source": [
    "const  E_mat = 25.8423e3\n",
    "const  ν_mat = 0.18\n",
    "const  Gc = 0.089\n",
    "const  η = 1e-15"
   ]
  },
  {
   "cell_type": "code",
   "execution_count": null,
   "id": "brazilian-sherman",
   "metadata": {},
   "outputs": [],
   "source": [
    "const  ls = 1.1875\n",
    "const  L = 500\n",
    "const  H = 500\n",
    "const  LOf = 220\n",
    "const  hfc = ls/5 #Mesh  size  parameter\n",
    "const  hf = ls/2.1 #Mesh  size  parameter\n",
    "const  h = 60*hf #Mesh  size  parameter\n",
    "const  thick = 100\n",
    "\n",
    "gmsh.initialize()\n",
    "gmsh.option.setNumber(\"General.Terminal\", 1)\n",
    "gmsh.model.geo.addPoint(0.0, 0.0, 0.0, h ,1)\n",
    "gmsh.model.geo.addPoint(L/2, 0.0, 0.0, h, 2)\n",
    "gmsh.model.geo.addPoint(L/2, H/2, 0.0, hfc, 3)\n",
    "gmsh.model.geo.addPoint(L/2+LOf-5, H/2, 0.0, hfc, 4)\n",
    "gmsh.model.geo.addPoint(L/2+LOf+5, H/2, 0.0, hfc, 5)\n",
    "gmsh.model.geo.addPoint(L, H/2, 0.0, h, 6)\n",
    "gmsh.model.geo.addPoint(L, H, 0.0, h, 7)\n",
    "gmsh.model.geo.addPoint(0.0, H, 0.0, h, 8)\n",
    "gmsh.model.geo.addPoint(0.0, H/2, 0.0, hf, 9)\n",
    "\n",
    "gmsh.model.geo.addLine(1, 2, 1)\n",
    "gmsh.model.geo.addLine(2, 3, 2)\n",
    "gmsh.model.geo.addLine(3, 4, 3)\n",
    "gmsh.model.geo.addLine(4, 5, 4)\n",
    "gmsh.model.geo.addLine(5, 6, 5)\n",
    "gmsh.model.geo.addLine(6, 7, 6)\n",
    "gmsh.model.geo.addLine(7, 8, 7)\n",
    "gmsh.model.geo.addLine(8, 9, 8)\n",
    "gmsh.model.geo.addLine(9, 1, 9)\n",
    "gmsh.model.geo.addLine(3, 9, 100)\n",
    "\n",
    "gmsh.model.geo.addCurveLoop([1,2,3,4,5,6,7,8,9],1)\n",
    "gmsh.model.geo.addPlaneSurface([1], 1)\n",
    "\n",
    "gmsh.model.addPhysicalGroup(2, [1],1)\n",
    "gmsh.model.addPhysicalGroup(1, [1],1)\n",
    "gmsh.model.addPhysicalGroup(1, [4],2)\n",
    "\n",
    "gmsh.model.setPhysicalName(2, 1, \"Domain\")\n",
    "gmsh.model.setPhysicalName(1, 1, \"Support\")\n",
    "gmsh.model.setPhysicalName(1, 2, \"LoadLine\")\n",
    "\n",
    "gmsh.model.mesh.field.add(\"Distance\", 1)\n",
    "gmsh.model.mesh.field.setNumbers(1, \"EdgesList\", [100])\n",
    "\n",
    "gmsh.model.mesh.field.add(\"Threshold\", 2)\n",
    "gmsh.model.mesh.field.setNumber(2, \"IField\", 1)\n",
    "gmsh.model.mesh.field.setNumber(2, \"LcMin\", hf)\n",
    "gmsh.model.mesh.field.setNumber(2, \"LcMax\", h)\n",
    "gmsh.model.mesh.field.setNumber(2, \"DistMin\", 25*ls)\n",
    "gmsh.model.mesh.field.setNumber(2, \"DistMax\", 35*ls)\n",
    "gmsh.model.mesh.field.setAsBackgroundMesh(2)\n",
    "\n",
    "gmsh.model.geo.synchronize()\n",
    "gmsh.model.mesh.generate(2)\n",
    "gmsh.write(\"LShapedPanel.msh\")\n",
    "gmsh.finalize()"
   ]
  },
  {
   "cell_type": "code",
   "execution_count": null,
   "id": "certain-insert",
   "metadata": {},
   "outputs": [],
   "source": [
    "model = GmshDiscreteModel(\"LShapedPanel.msh\")\n",
    "writevtk(model ,\"LShapedPanel\")"
   ]
  },
  {
   "cell_type": "code",
   "execution_count": null,
   "id": "controlling-windows",
   "metadata": {},
   "outputs": [],
   "source": [
    "function  ElasFourthOrderConstTensor(E,ν,PlanarState)\n",
    "    # 1 for  Plane  Stress  and 2 Plane  Strain  Condition\n",
    "    if  PlanarState  == 1\n",
    "        C1111 =E/(1-ν*ν)\n",
    "        C1122 = (ν*E)/(1-ν*ν)\n",
    "        C1112 = 0.0\n",
    "        C2222 =E/(1-ν*ν)\n",
    "        C2212 = 0.0\n",
    "        C1212 =E/(2*(1+ν))\n",
    "    elseif  PlanarState  == 2\n",
    "        C1111 = (E*(1-ν*ν))/((1+ν)*(1-ν-2*ν*ν))\n",
    "        C1122 = (ν*E)/(1-ν-2*ν*ν)\n",
    "        C1112 = 0.0\n",
    "        C2222 = (E*(1-ν))/(1-ν-2*ν*ν)\n",
    "        C2212 = 0.0\n",
    "        C1212 =E/(2*(1+ν))\n",
    "    end\n",
    "    C_ten = SymFourthOrderTensorValue(C1111 ,C1112 ,C1122 ,C1112 ,C1212 ,C2212 ,C1122 ,C2212 ,C2222)\n",
    "    return   C_ten\n",
    "end"
   ]
  },
  {
   "cell_type": "code",
   "execution_count": null,
   "id": "diagnostic-burns",
   "metadata": {},
   "outputs": [],
   "source": [
    "const  C_mat = ElasFourthOrderConstTensor(E_mat ,ν_mat ,2)"
   ]
  },
  {
   "cell_type": "code",
   "execution_count": null,
   "id": "binary-house",
   "metadata": {},
   "outputs": [],
   "source": [
    "I2 = SymTensorValue{2,Float64}(1.0 ,0.0 ,1.0)\n",
    "I4 = I2⊗I2\n",
    "I4_sym = one(SymFourthOrderTensorValue{2,Float64})\n",
    "P_vol = (1.0/2)*I4\n",
    "P_dev = I4_sym  - P_vol"
   ]
  },
  {
   "cell_type": "code",
   "execution_count": null,
   "id": "western-commons",
   "metadata": {},
   "outputs": [],
   "source": [
    "function σfun(ε,ε_in,s_in)\n",
    "    σ_elas = C_mat⊙ε\n",
    "    if tr(ε_in) >= 0\n",
    "        σ = (s_in ^2+η)*σ_elas\n",
    "    elseif  tr(ε_in) < 0\n",
    "        σ = (s_in ^2+η)*P_dev ⊙ σ_elas + P_vol ⊙ σ_elas\n",
    "    end\n",
    "    return  σ\n",
    "end"
   ]
  },
  {
   "cell_type": "code",
   "execution_count": null,
   "id": "adapted-silly",
   "metadata": {},
   "outputs": [],
   "source": [
    "function ψPos(ε_in)\n",
    "   σ_elas = C_mat⊙ε_in\n",
    "    if tr(ε_in) >= 0\n",
    "        ψPlus = 0.5*(ε_in ⊙ σ_elas)\n",
    "    elseif  tr(ε_in) < 0\n",
    "        ψPlus = 0.5*((P_dev ⊙ σ_elas)⊙(P_dev⊙ε_in))\n",
    "    end\n",
    "    return ψPlus\n",
    "end"
   ]
  },
  {
   "cell_type": "code",
   "execution_count": null,
   "id": "presidential-navigation",
   "metadata": {},
   "outputs": [],
   "source": [
    "function  new_EnergyState(ψPlusPrev_in,ψhPos_in)\n",
    "    ψPlus_in = ψhPos_in\n",
    "    if ψPlus_in  >=ψPlusPrev_in\n",
    "        ψPlus_out =ψPlus_in\n",
    "    else\n",
    "        ψPlus_out=ψPlusPrev_in\n",
    "    end\n",
    "    true,ψPlus_out\n",
    "end"
   ]
  },
  {
   "cell_type": "code",
   "execution_count": null,
   "id": "cathedral-warren",
   "metadata": {},
   "outputs": [],
   "source": [
    "function  project(q,model ,dΩ,order)\n",
    "    reffe = ReferenceFE(lagrangian ,Float64 ,order)\n",
    "    V = FESpace(model ,reffe ,conformity =:L2)\n",
    "    a(u,v) =∫(u*v)*dΩ\n",
    "    b(v) =∫(v*q)*dΩ\n",
    "    op = AffineFEOperator(a,b,V,V)\n",
    "    qh = solve(op)\n",
    "    return  qh\n",
    "end"
   ]
  },
  {
   "cell_type": "code",
   "execution_count": null,
   "id": "anticipated-surfing",
   "metadata": {},
   "outputs": [],
   "source": [
    "order = 1\n",
    "reffe_PF = ReferenceFE(lagrangian ,Float64,order)\n",
    "V0_PF = TestFESpace(model ,reffe_PF;conformity =:H1)\n",
    "U_PF = TrialFESpace(V0_PF)\n",
    "sh = zero(V0_PF)"
   ]
  },
  {
   "cell_type": "code",
   "execution_count": null,
   "id": "artificial-villa",
   "metadata": {},
   "outputs": [],
   "source": [
    "reffe_Disp = ReferenceFE(lagrangian ,VectorValue{2,Float64},order)\n",
    "V0_Disp = TestFESpace(model,reffe_Disp;conformity =:H1,\n",
    "    dirichlet_tags = [\"Support\",\"LoadLine\"],\n",
    "    dirichlet_masks =[(true ,true), (false ,true)])\n",
    "\n",
    "uh = zero(V0_Disp)"
   ]
  },
  {
   "cell_type": "code",
   "execution_count": null,
   "id": "accessible-cooler",
   "metadata": {},
   "outputs": [],
   "source": [
    "degree = 2*order\n",
    "Ω= Triangulation(model)\n",
    "dΩ= Measure(Ω,degree)"
   ]
  },
  {
   "cell_type": "code",
   "execution_count": null,
   "id": "normal-horizontal",
   "metadata": {},
   "outputs": [],
   "source": [
    "labels = get_face_labeling(model)\n",
    "LoadTagId = get_tag_from_name(labels ,\"Support\")\n",
    "Γ_Load = BoundaryTriangulation(model ,tags = LoadTagId)\n",
    "dΓ_Load = Measure(Γ_Load ,degree)\n",
    "n_Γ_Load = get_normal_vector(Γ_Load)"
   ]
  },
  {
   "cell_type": "code",
   "execution_count": null,
   "id": "qualified-marks",
   "metadata": {},
   "outputs": [],
   "source": [
    "function   stepPhaseField(uh_in ,ΨPlusPrev_in)\n",
    "    a_PF(s,φ) =∫( Gc*ls*∇(φ)⋅∇(s)+ 2*ΨPlusPrev_in*s*φ+ (Gc/ls)*s*φ)*dΩ\n",
    "    b_PF(φ) =∫( (Gc/ls)*φ)*dΩ\n",
    "    op_PF = AffineFEOperator(a_PF,b_PF ,U_PF ,V0_PF)\n",
    "    sh_out = solve(op_PF)\n",
    "    return  sh_out\n",
    "end"
   ]
  },
  {
   "cell_type": "code",
   "execution_count": null,
   "id": "static-minority",
   "metadata": {},
   "outputs": [],
   "source": [
    "function  stepDisp(uh_in,sh_in ,vApp)\n",
    "    uApp1(x) = VectorValue(0.0,0.0)\n",
    "    uApp2(x) = VectorValue(0.0,vApp)\n",
    "    U_Disp = TrialFESpace(V0_Disp ,[uApp1 ,uApp2])\n",
    "    a_Disp(u,v) =∫( (ε(v)⊙(σfun∘(ε(u),ε(uh_in),sh_in)) ) )*dΩ\n",
    "    b_Disp(v) = 0.0\n",
    "    op_Disp = AffineFEOperator(a_Disp ,b_Disp ,U_Disp ,V0_Disp)\n",
    "    uh_out = solve(op_Disp)\n",
    "    return  uh_out\n",
    "end"
   ]
  },
  {
   "cell_type": "code",
   "execution_count": null,
   "id": "joined-disney",
   "metadata": {},
   "outputs": [],
   "source": [
    "vApp = 0\n",
    "delv = 1e-3\n",
    "const  vAppMax = 0.7\n",
    "innerMax = 10\n",
    "count = 0\n",
    "Load = Float64[]\n",
    "Displacement = Float64[]\n",
    "COUNTArray = Float64[]\n",
    "\n",
    "push!(Load, 0.0)\n",
    "push!(Displacement, 0.0)\n",
    "sPrev = CellState(1.0,dΩ)\n",
    "sh = project(sPrev ,model ,dΩ,order)\n",
    "ψPlusPrev = CellState(0.0,dΩ)\n",
    "while  vApp .< vAppMax\n",
    "    count = count  .+ 1\n",
    "    if count <= 300\n",
    "        vApp = vApp+delv\n",
    "    elseif count <= 600\n",
    "        vApp = vApp-delv\n",
    "    elseif count > 600\n",
    "        vApp = vApp+delv\n",
    "    end\n",
    "    \n",
    "    print(\"\\n Entering  displacemtent  step$count :\", float(vApp))\n",
    "    for  inner = 1: innerMax\n",
    "        ψhPlusPrev = project(ψPlusPrev ,model ,dΩ,order)\n",
    "        RelErr = abs(sum(∫( Gc*ls*∇(sh)⋅∇(sh) + 2*ψhPlusPrev*sh*sh + (Gc/ls)*sh*sh)*dΩ-∫( (Gc/ls)*sh)*dΩ))/abs(sum(∫( (Gc/ls)*sh)*dΩ))\n",
    "        print(\"\\n Relative Error :\", float(RelErr))\n",
    "        sh = stepPhaseField(uh,ψhPlusPrev)\n",
    "        uh = stepDisp(uh,sh,vApp)\n",
    "        ψhPos_in =ψPos∘(ε(uh))\n",
    "        update_state!( new_EnergyState ,ψPlusPrev ,ψhPos_in)\n",
    "        if   RelErr  < 1e-8\n",
    "            break\n",
    "        end\n",
    "    end\n",
    "    Node_Force = sum(∫(n_Γ_Load⋅(σfun∘(ε(uh),ε(uh),sh)))*dΓ_Load)\n",
    "    push!(Load , -thick*Node_Force[2])\n",
    "    push!( Displacement, vApp)\n",
    "    \n",
    "    push!(COUNTArray,count)\n",
    "    \n",
    "    if mod(count,20) == 0\n",
    "    writevtk(Ω,\"results_LShapedPanel$count\",cellfields= [\"uh\"=>uh ,\"s\"=>sh])\n",
    "    end\n",
    "end"
   ]
  },
  {
   "cell_type": "code",
   "execution_count": null,
   "id": "fatty-single",
   "metadata": {
    "scrolled": false
   },
   "outputs": [],
   "source": [
    "plot(Displacement,Load*1e-3)"
   ]
  }
 ],
 "metadata": {
  "@webio": {
   "lastCommId": null,
   "lastKernelId": null
  },
  "kernelspec": {
   "display_name": "Julia 1.5.3",
   "language": "julia",
   "name": "julia-1.5"
  },
  "language_info": {
   "file_extension": ".jl",
   "mimetype": "application/julia",
   "name": "julia",
   "version": "1.5.3"
  }
 },
 "nbformat": 4,
 "nbformat_minor": 5
}
