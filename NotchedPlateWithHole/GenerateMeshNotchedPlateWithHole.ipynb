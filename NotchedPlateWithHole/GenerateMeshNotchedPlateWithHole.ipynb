{
 "cells": [
  {
   "cell_type": "code",
   "execution_count": 1,
   "id": "87fd73b2",
   "metadata": {},
   "outputs": [],
   "source": [
    "using Gmsh:gmsh\n",
    "using GridapGmsh\n",
    "using  Gridap"
   ]
  },
  {
   "cell_type": "code",
   "execution_count": 2,
   "id": "e91a1b48",
   "metadata": {},
   "outputs": [
    {
     "data": {
      "text/plain": [
       "0.45"
      ]
     },
     "execution_count": 2,
     "metadata": {},
     "output_type": "execute_result"
    }
   ],
   "source": [
    "const ls = 0.45"
   ]
  },
  {
   "cell_type": "code",
   "execution_count": 3,
   "id": "7710baf8",
   "metadata": {},
   "outputs": [
    {
     "name": "stdout",
     "output_type": "stream",
     "text": [
      "Info    : Meshing 1D...\n",
      "Info    : Meshing curve 1 (Line)\n",
      "Info    : Meshing curve 2 (Line)\n",
      "Info    : Meshing curve 3 (Line)\n",
      "Info    : Meshing curve 4 (Line)\n",
      "Info    : Meshing curve 5 (Line)\n",
      "Info    : Meshing curve 6 (Line)\n",
      "Info    : Meshing curve 7 (Line)\n",
      "Info    : Meshing curve 8 (Line)\n",
      "Info    : Meshing curve 9 (Line)\n",
      "Info    : Meshing curve 10 (Line)\n",
      "Info    : Meshing curve 11 (Circle)\n",
      "Info    : Meshing curve 12 (Circle)\n",
      "Info    : Done meshing 1D (0.027691 s)\n",
      "Info    : Meshing 2D...\n",
      "Info    : Meshing surface 1 (Plane, Delaunay)\n",
      "Info    : Done meshing 2D (1.2664 s)\n",
      "Info    : 52843 vertices 105295 elements\n",
      "Info    : Writing 'NotchedPlateWithHole.msh'...\n",
      "Info    : Done writing 'NotchedPlateWithHole.msh'\n"
     ]
    }
   ],
   "source": [
    "const L = 65      #Length\n",
    "const H = 120      #Height\n",
    "const Lh = 10     #notch length\n",
    "const CP = 55      #center height  \n",
    "const CH = H/40    #Crack height\n",
    "const Lu = 28.5      #offset of hole from right end\n",
    "const Ld = 51      #offset of hole from bottom end\n",
    "const hfc = ls/50\n",
    "const hf = ls/5   #finer mesh size\n",
    "const h = 100*hf     #coarser mesh size\n",
    "const di = 20      # Diameter of hole\n",
    "const FMR = 7*ls  \n",
    "\n",
    "gmsh.initialize()\n",
    "gmsh.option.setNumber(\"General.Terminal\", 1)\n",
    "p1 = gmsh.model.geo.addPoint(0.0, 0.0, 0.0, h)   \n",
    "p2 = gmsh.model.geo.addPoint(L, 0, 0.0, h) \n",
    "p3 = gmsh.model.geo.addPoint(L, H, 0.0, h)\n",
    "p4 = gmsh.model.geo.addPoint(0, H, 0.0, h)\n",
    "p5 = gmsh.model.geo.addPoint(0, H-CP, 0.0, h)\n",
    "p6 = gmsh.model.geo.addPoint(Lh, H-CP, 0.0, hfc)\n",
    "p7 = gmsh.model.geo.addPoint(Lh, H-CP-0.5*CH, 0.0, hfc)\n",
    "p8 = gmsh.model.geo.addPoint(0, H-CP-0.5*CH, 0.0, h)\n",
    "\n",
    "p9 = gmsh.model.geo.addPoint(L-Lu-0.5*di, Ld, 0.0, h)\n",
    "p10 = gmsh.model.geo.addPoint(L-Lu, Ld, 0.0, h)\n",
    "p11 = gmsh.model.geo.addPoint(L-Lu+0.5*di, Ld, 0.0, h)\n",
    "\n",
    "p12 = gmsh.model.geo.addPoint(L-Lu, Ld+0.5*di, 0.0, h)\n",
    "\n",
    "l1 = gmsh.model.geo.addLine(p1, p2)\n",
    "l2 = gmsh.model.geo.addLine(p2, p3)\n",
    "l3 = gmsh.model.geo.addLine(p3, p4)\n",
    "l4 = gmsh.model.geo.addLine(p4, p5)\n",
    "l5 = gmsh.model.geo.addLine(p5, p6)\n",
    "l6 = gmsh.model.geo.addLine(p6, p7)\n",
    "l7 = gmsh.model.geo.addLine(p7, p8)\n",
    "l8 = gmsh.model.geo.addLine(p8, p1)\n",
    "\n",
    "l9 = gmsh.model.geo.addLine(p7, p9)\n",
    "l10 = gmsh.model.geo.addLine(p7, p12)\n",
    "\n",
    "c1 = gmsh.model.geo.addCircleArc(p9,p10,p11)\n",
    "c2 = gmsh.model.geo.addCircleArc(p11,p10,p9)\n",
    "\n",
    "cl1 = gmsh.model.geo.addCurveLoop([l1,l2,l3,l4,l5,l6,l7,l8])\n",
    "cl2 = gmsh.model.geo.addCurveLoop([c1,c2])\n",
    "\n",
    "ps1 = gmsh.model.geo.addPlaneSurface([cl1,-cl2])\n",
    "\n",
    "pg1 = gmsh.model.addPhysicalGroup(2, [ps1])\n",
    "pg2 = gmsh.model.addPhysicalGroup(1, [l1])\n",
    "pg3 = gmsh.model.addPhysicalGroup(1, [l3])\n",
    "\n",
    "gmsh.model.setPhysicalName(2, pg1, \"Domain\")\n",
    "gmsh.model.setPhysicalName(1, pg2, \"DirichletBot\")\n",
    "gmsh.model.setPhysicalName(1, pg3, \"DirichletTop\")\n",
    "\n",
    "\n",
    "gmsh.model.mesh.field.add(\"Box\", 11)\n",
    "gmsh.model.mesh.field.setNumber(11, \"VIn\", hf)\n",
    "gmsh.model.mesh.field.setNumber(11, \"VOut\", h)\n",
    "gmsh.model.mesh.field.setNumber(11, \"XMin\", L-Lu+0.45*di)\n",
    "gmsh.model.mesh.field.setNumber(11, \"XMax\", L)\n",
    "gmsh.model.mesh.field.setNumber(11, \"YMin\", Ld-FMR)\n",
    "gmsh.model.mesh.field.setNumber(11, \"YMax\", Ld+FMR)\n",
    "\n",
    "gmsh.model.mesh.field.add(\"Distance\", 1)\n",
    "gmsh.model.mesh.field.setNumbers(1, \"EdgesList\", [l10])\n",
    "\n",
    "gmsh.model.mesh.field.add(\"Threshold\", 2)\n",
    "gmsh.model.mesh.field.setNumber(2, \"IField\", 1)\n",
    "gmsh.model.mesh.field.setNumber(2, \"LcMin\", hf)\n",
    "gmsh.model.mesh.field.setNumber(2, \"LcMax\", h)\n",
    "gmsh.model.mesh.field.setNumber(2, \"DistMin\", FMR)\n",
    "gmsh.model.mesh.field.setNumber(2, \"DistMax\", 0.50*H)\n",
    "\n",
    "gmsh.model.mesh.field.add(\"Min\", 7)\n",
    "gmsh.model.mesh.field.setNumbers(7, \"FieldsList\", [11,2])\n",
    "\n",
    "gmsh.model.mesh.field.setAsBackgroundMesh(7)\n",
    "\n",
    "gmsh.model.geo.synchronize()\n",
    "gmsh.model.mesh.generate(2)\n",
    "gmsh.write(\"NotchedPlateWithHole.msh\")\n",
    "gmsh.finalize()"
   ]
  },
  {
   "cell_type": "code",
   "execution_count": 4,
   "id": "fc356ed8",
   "metadata": {},
   "outputs": [
    {
     "name": "stdout",
     "output_type": "stream",
     "text": [
      "Info    : Reading 'NotchedPlateWithHole.msh'...\n",
      "Info    : 25 entities\n",
      "Info    : 52440 nodes\n",
      "Info    : 104278 elements\n",
      "Info    : [ 10%] Reading elements                                          \r",
      "Info    : [ 20%] Reading elements                                          \r",
      "Info    : [ 30%] Reading elements                                          \r",
      "Info    : [ 40%] Reading elements                                          \r",
      "Info    : [ 50%] Reading elements                                          \r",
      "Info    : [ 50%] Reading elements                                          \r",
      "Info    : [ 60%] Reading elements                                          \r",
      "Info    : [ 70%] Reading elements                                          \r",
      "Info    : [ 80%] Reading elements                                          \r",
      "Info    : [ 90%] Reading elements                                          \r",
      "Info    : [100%] Reading elements                                          \r",
      "                                          \r",
      "Info    : Done reading 'NotchedPlateWithHole.msh'\n"
     ]
    },
    {
     "data": {
      "text/plain": [
       "3-element Array{Array{String,1},1}:\n",
       " [\"NotchedPlateWithHole_0.vtu\"]\n",
       " [\"NotchedPlateWithHole_1.vtu\"]\n",
       " [\"NotchedPlateWithHole_2.vtu\"]"
      ]
     },
     "execution_count": 4,
     "metadata": {},
     "output_type": "execute_result"
    }
   ],
   "source": [
    "model = GmshDiscreteModel(\"NotchedPlateWithHole.msh\")\n",
    "writevtk(model ,\"NotchedPlateWithHole\")"
   ]
  }
 ],
 "metadata": {
  "kernelspec": {
   "display_name": "Julia 1.5.3",
   "language": "julia",
   "name": "julia-1.5"
  },
  "language_info": {
   "file_extension": ".jl",
   "mimetype": "application/julia",
   "name": "julia",
   "version": "1.5.3"
  }
 },
 "nbformat": 4,
 "nbformat_minor": 5
}
