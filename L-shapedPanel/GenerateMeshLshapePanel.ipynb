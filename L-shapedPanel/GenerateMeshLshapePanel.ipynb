{
 "cells": [
  {
   "cell_type": "code",
   "execution_count": 1,
   "id": "87fd73b2",
   "metadata": {},
   "outputs": [],
   "source": [
    "using Gmsh:gmsh\n",
    "using GridapGmsh\n",
    "using  Gridap"
   ]
  },
  {
   "cell_type": "code",
   "execution_count": 2,
   "id": "e91a1b48",
   "metadata": {},
   "outputs": [
    {
     "data": {
      "text/plain": [
       "1.1875"
      ]
     },
     "execution_count": 2,
     "metadata": {},
     "output_type": "execute_result"
    }
   ],
   "source": [
    "const  ls = 1.1875"
   ]
  },
  {
   "cell_type": "code",
   "execution_count": 3,
   "id": "7710baf8",
   "metadata": {},
   "outputs": [
    {
     "name": "stdout",
     "output_type": "stream",
     "text": [
      "Info    : Meshing 1D...\n",
      "Info    : Meshing curve 1 (Line)\n",
      "Info    : Meshing curve 2 (Line)\n",
      "Info    : Meshing curve 3 (Line)\n",
      "Info    : Meshing curve 4 (Line)\n",
      "Info    : Meshing curve 5 (Line)\n",
      "Info    : Meshing curve 6 (Line)\n",
      "Info    : Meshing curve 7 (Line)\n",
      "Info    : Meshing curve 8 (Line)\n",
      "Info    : Meshing curve 9 (Line)\n",
      "Info    : Meshing curve 100 (Line)\n",
      "Info    : Done meshing 1D (0.015359 s)\n",
      "Info    : Meshing 2D...\n",
      "Info    : Meshing surface 1 (Plane, Delaunay)\n",
      "Info    : Done meshing 2D (2.0339 s)\n",
      "Info    : 67145 vertices 133637 elements\n",
      "Info    : Writing 'LShapedPanel.msh'...\n",
      "Info    : Done writing 'LShapedPanel.msh'\n"
     ]
    }
   ],
   "source": [
    "const  L = 500\n",
    "const  H = 500\n",
    "const  LOf = 220\n",
    "const  hfc = ls/5 #Mesh  size  parameter\n",
    "const  hf = ls/2.1 #Mesh  size  parameter\n",
    "const  h = 100*hf #Mesh  size  parameter\n",
    "const  thick = 100\n",
    "\n",
    "gmsh.initialize()\n",
    "gmsh.option.setNumber(\"General.Terminal\", 1)\n",
    "gmsh.model.geo.addPoint(0.0, 0.0, 0.0, h ,1)\n",
    "gmsh.model.geo.addPoint(L/2, 0.0, 0.0, h, 2)\n",
    "gmsh.model.geo.addPoint(L/2, H/2, 0.0, hfc, 3)\n",
    "gmsh.model.geo.addPoint(L/2+LOf-5, H/2, 0.0, hfc, 4)\n",
    "gmsh.model.geo.addPoint(L/2+LOf+5, H/2, 0.0, hfc, 5)\n",
    "gmsh.model.geo.addPoint(L, H/2, 0.0, h, 6)\n",
    "gmsh.model.geo.addPoint(L, H, 0.0, h, 7)\n",
    "gmsh.model.geo.addPoint(0.0, H, 0.0, h, 8)\n",
    "gmsh.model.geo.addPoint(0.0, H/2, 0.0, hf, 9)\n",
    "\n",
    "gmsh.model.geo.addLine(1, 2, 1)\n",
    "gmsh.model.geo.addLine(2, 3, 2)\n",
    "gmsh.model.geo.addLine(3, 4, 3)\n",
    "gmsh.model.geo.addLine(4, 5, 4)\n",
    "gmsh.model.geo.addLine(5, 6, 5)\n",
    "gmsh.model.geo.addLine(6, 7, 6)\n",
    "gmsh.model.geo.addLine(7, 8, 7)\n",
    "gmsh.model.geo.addLine(8, 9, 8)\n",
    "gmsh.model.geo.addLine(9, 1, 9)\n",
    "gmsh.model.geo.addLine(3, 9, 100)\n",
    "\n",
    "gmsh.model.geo.addCurveLoop([1,2,3,4,5,6,7,8,9],1)\n",
    "gmsh.model.geo.addPlaneSurface([1], 1)\n",
    "\n",
    "gmsh.model.addPhysicalGroup(2, [1],1)\n",
    "gmsh.model.addPhysicalGroup(1, [1],1)\n",
    "gmsh.model.addPhysicalGroup(1, [4],2)\n",
    "\n",
    "gmsh.model.setPhysicalName(2, 1, \"Domain\")\n",
    "gmsh.model.setPhysicalName(1, 1, \"Support\")\n",
    "gmsh.model.setPhysicalName(1, 2, \"LoadLine\")\n",
    "\n",
    "gmsh.model.mesh.field.add(\"Distance\", 1)\n",
    "gmsh.model.mesh.field.setNumbers(1, \"EdgesList\", [100])\n",
    "\n",
    "gmsh.model.mesh.field.add(\"Threshold\", 2)\n",
    "gmsh.model.mesh.field.setNumber(2, \"IField\", 1)\n",
    "gmsh.model.mesh.field.setNumber(2, \"LcMin\", hf)\n",
    "gmsh.model.mesh.field.setNumber(2, \"LcMax\", h)\n",
    "gmsh.model.mesh.field.setNumber(2, \"DistMin\", 25*ls)\n",
    "gmsh.model.mesh.field.setNumber(2, \"DistMax\", 35*ls)\n",
    "gmsh.model.mesh.field.setAsBackgroundMesh(2)\n",
    "\n",
    "gmsh.model.geo.synchronize()\n",
    "gmsh.model.mesh.generate(2)\n",
    "gmsh.write(\"LShapedPanel.msh\")\n",
    "gmsh.finalize()"
   ]
  },
  {
   "cell_type": "code",
   "execution_count": 4,
   "id": "fc356ed8",
   "metadata": {},
   "outputs": [
    {
     "name": "stdout",
     "output_type": "stream",
     "text": [
      "Info    : Reading 'LShapedPanel.msh'...\n",
      "Info    : 20 entities\n",
      "Info    : 66484 nodes\n",
      "Info    : 131856 elements\n",
      "Info    : [ 10%] Reading elements                                          \r",
      "Info    : [ 20%] Reading elements                                          \r",
      "Info    : [ 30%] Reading elements                                          \r",
      "Info    : [ 40%] Reading elements                                          \r",
      "Info    : [ 50%] Reading elements                                          \r",
      "Info    : [ 50%] Reading elements                                          \r",
      "Info    : [ 60%] Reading elements                                          \r",
      "Info    : [ 70%] Reading elements                                          \r",
      "Info    : [ 80%] Reading elements                                          \r",
      "Info    : [ 90%] Reading elements                                          \r",
      "Info    : [100%] Reading elements                                          \r",
      "                                          \r",
      "Info    : Done reading 'LShapedPanel.msh'\n"
     ]
    },
    {
     "data": {
      "text/plain": [
       "3-element Array{Array{String,1},1}:\n",
       " [\"LShapedPanel_0.vtu\"]\n",
       " [\"LShapedPanel_1.vtu\"]\n",
       " [\"LShapedPanel_2.vtu\"]"
      ]
     },
     "execution_count": 4,
     "metadata": {},
     "output_type": "execute_result"
    }
   ],
   "source": [
    "model = GmshDiscreteModel(\"LShapedPanel.msh\")\n",
    "writevtk(model ,\"LShapedPanel\")"
   ]
  }
 ],
 "metadata": {
  "kernelspec": {
   "display_name": "Julia 1.5.3",
   "language": "julia",
   "name": "julia-1.5"
  },
  "language_info": {
   "file_extension": ".jl",
   "mimetype": "application/julia",
   "name": "julia",
   "version": "1.5.3"
  }
 },
 "nbformat": 4,
 "nbformat_minor": 5
}
