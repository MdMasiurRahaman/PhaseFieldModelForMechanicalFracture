{
 "cells": [
  {
   "cell_type": "code",
   "execution_count": null,
   "id": "87fd73b2",
   "metadata": {},
   "outputs": [],
   "source": [
    "using  Gmsh: gmsh\n",
    "using  GridapGmsh\n",
    "using  Gridap\n",
    "using  Gridap.Geometry\n",
    "using  Gridap.TensorValues\n",
    "using  PyPlot"
   ]
  },
  {
   "cell_type": "code",
   "execution_count": null,
   "id": "e91a1b48",
   "metadata": {},
   "outputs": [],
   "source": [
    "const E = 5.9827e3\n",
    "const ν = 0.22\n",
    "const Gc = 2.28\n",
    "const ls = 0.45\n",
    "const η = 1e-15"
   ]
  },
  {
   "cell_type": "code",
   "execution_count": null,
   "id": "f40789a7",
   "metadata": {},
   "outputs": [],
   "source": [
    "const L = 65      #Length\n",
    "const H = 120      #Height\n",
    "const Lh = 10     #notch length\n",
    "const CP = 55      #center height  \n",
    "const CH = H/40    #Crack height\n",
    "const Lu = 28.5      #offset of hole from right end\n",
    "const Ld = 51      #offset of hole from bottom end\n",
    "const hfc = ls/50\n",
    "const hf = ls/5   #finer mesh size\n",
    "const h = 100*hf     #coarser mesh size\n",
    "const di = 20      # Diameter of hole\n",
    "const FMR = 7*ls  \n",
    "\n",
    "gmsh.initialize()\n",
    "gmsh.option.setNumber(\"General.Terminal\", 1)\n",
    "p1 = gmsh.model.geo.addPoint(0.0, 0.0, 0.0, h)   \n",
    "p2 = gmsh.model.geo.addPoint(L, 0, 0.0, h) \n",
    "p3 = gmsh.model.geo.addPoint(L, H, 0.0, h)\n",
    "p4 = gmsh.model.geo.addPoint(0, H, 0.0, h)\n",
    "p5 = gmsh.model.geo.addPoint(0, H-CP, 0.0, h)\n",
    "p6 = gmsh.model.geo.addPoint(Lh, H-CP, 0.0, hfc)\n",
    "p7 = gmsh.model.geo.addPoint(Lh, H-CP-0.5*CH, 0.0, hfc)\n",
    "p8 = gmsh.model.geo.addPoint(0, H-CP-0.5*CH, 0.0, h)\n",
    "\n",
    "p9 = gmsh.model.geo.addPoint(L-Lu-0.5*di, Ld, 0.0, h)\n",
    "p10 = gmsh.model.geo.addPoint(L-Lu, Ld, 0.0, h)\n",
    "p11 = gmsh.model.geo.addPoint(L-Lu+0.5*di, Ld, 0.0, h)\n",
    "\n",
    "p12 = gmsh.model.geo.addPoint(L-Lu, Ld+0.5*di, 0.0, h)\n",
    "\n",
    "l1 = gmsh.model.geo.addLine(p1, p2)\n",
    "l2 = gmsh.model.geo.addLine(p2, p3)\n",
    "l3 = gmsh.model.geo.addLine(p3, p4)\n",
    "l4 = gmsh.model.geo.addLine(p4, p5)\n",
    "l5 = gmsh.model.geo.addLine(p5, p6)\n",
    "l6 = gmsh.model.geo.addLine(p6, p7)\n",
    "l7 = gmsh.model.geo.addLine(p7, p8)\n",
    "l8 = gmsh.model.geo.addLine(p8, p1)\n",
    "\n",
    "l9 = gmsh.model.geo.addLine(p7, p9)\n",
    "l10 = gmsh.model.geo.addLine(p7, p12)\n",
    "\n",
    "c1 = gmsh.model.geo.addCircleArc(p9,p10,p11)\n",
    "c2 = gmsh.model.geo.addCircleArc(p11,p10,p9)\n",
    "\n",
    "cl1 = gmsh.model.geo.addCurveLoop([l1,l2,l3,l4,l5,l6,l7,l8])\n",
    "cl2 = gmsh.model.geo.addCurveLoop([c1,c2])\n",
    "\n",
    "ps1 = gmsh.model.geo.addPlaneSurface([cl1,-cl2])\n",
    "\n",
    "pg1 = gmsh.model.addPhysicalGroup(2, [ps1])\n",
    "pg2 = gmsh.model.addPhysicalGroup(1, [l1])\n",
    "pg3 = gmsh.model.addPhysicalGroup(1, [l3])\n",
    "\n",
    "gmsh.model.setPhysicalName(2, pg1, \"Domain\")\n",
    "gmsh.model.setPhysicalName(1, pg2, \"DirichletBot\")\n",
    "gmsh.model.setPhysicalName(1, pg3, \"DirichletTop\")\n",
    "\n",
    "\n",
    "gmsh.model.mesh.field.add(\"Box\", 11)\n",
    "gmsh.model.mesh.field.setNumber(11, \"VIn\", hf)\n",
    "gmsh.model.mesh.field.setNumber(11, \"VOut\", h)\n",
    "gmsh.model.mesh.field.setNumber(11, \"XMin\", L-Lu+0.45*di)\n",
    "gmsh.model.mesh.field.setNumber(11, \"XMax\", L)\n",
    "gmsh.model.mesh.field.setNumber(11, \"YMin\", Ld-FMR)\n",
    "gmsh.model.mesh.field.setNumber(11, \"YMax\", Ld+FMR)\n",
    "\n",
    "gmsh.model.mesh.field.add(\"Distance\", 1)\n",
    "gmsh.model.mesh.field.setNumbers(1, \"EdgesList\", [l10])\n",
    "\n",
    "gmsh.model.mesh.field.add(\"Threshold\", 2)\n",
    "gmsh.model.mesh.field.setNumber(2, \"IField\", 1)\n",
    "gmsh.model.mesh.field.setNumber(2, \"LcMin\", hf)\n",
    "gmsh.model.mesh.field.setNumber(2, \"LcMax\", h)\n",
    "gmsh.model.mesh.field.setNumber(2, \"DistMin\", FMR)\n",
    "gmsh.model.mesh.field.setNumber(2, \"DistMax\", 0.50*H)\n",
    "\n",
    "gmsh.model.mesh.field.add(\"Min\", 7)\n",
    "gmsh.model.mesh.field.setNumbers(7, \"FieldsList\", [11,2])\n",
    "\n",
    "gmsh.model.mesh.field.setAsBackgroundMesh(7)\n",
    "\n",
    "gmsh.model.geo.synchronize()\n",
    "gmsh.model.mesh.generate(2)\n",
    "gmsh.write(\"NotchedPlateWithHole.msh\")\n",
    "gmsh.finalize()"
   ]
  },
  {
   "cell_type": "code",
   "execution_count": null,
   "id": "fc356ed8",
   "metadata": {},
   "outputs": [],
   "source": [
    "model = GmshDiscreteModel(\"NotchedPlateWithHole.msh\")\n",
    "writevtk(model ,\"NotchedPlateWithHole\")"
   ]
  },
  {
   "cell_type": "code",
   "execution_count": null,
   "id": "5dc0f7d7",
   "metadata": {},
   "outputs": [],
   "source": [
    "function  ElasFourthOrderConstTensor(E,ν,PlanarState)\n",
    "    # 1 for  Plane  Stress  and 2 Plane  Strain  Condition\n",
    "    if  PlanarState  == 1\n",
    "        C1111 =E/(1-ν*ν)\n",
    "        C1122 = (ν*E)/(1-ν*ν)\n",
    "        C1112 = 0.0\n",
    "        C2222 =E/(1-ν*ν)\n",
    "        C2212 = 0.0\n",
    "        C1212 =E/(2*(1+ν))\n",
    "    elseif  PlanarState  == 2\n",
    "        C1111 = (E*(1-ν*ν))/((1+ν)*(1-ν-2*ν*ν))\n",
    "        C1122 = (ν*E)/(1-ν-2*ν*ν)\n",
    "        C1112 = 0.0\n",
    "        C2222 = (E*(1-ν))/(1-ν-2*ν*ν)\n",
    "        C2212 = 0.0\n",
    "        C1212 =E/(2*(1+ν))\n",
    "    end\n",
    "    C_ten = SymFourthOrderTensorValue(C1111 ,C1112 ,C1122 ,C1112 ,C1212 ,C2212 ,C1122 ,C2212 ,C2222)\n",
    "    return   C_ten\n",
    "end"
   ]
  },
  {
   "cell_type": "code",
   "execution_count": null,
   "id": "93fced61",
   "metadata": {},
   "outputs": [],
   "source": [
    "const  C_mat = ElasFourthOrderConstTensor(E,ν,2)"
   ]
  },
  {
   "cell_type": "code",
   "execution_count": null,
   "id": "03e9401a",
   "metadata": {},
   "outputs": [],
   "source": [
    "I2 = SymTensorValue{2,Float64}(1.0 ,0.0 ,1.0)\n",
    "I4 = I2⊗I2\n",
    "I4_sym = one(SymFourthOrderTensorValue{2,Float64})\n",
    "P_vol = (1.0/2)*I4\n",
    "P_dev = I4_sym  - P_vol"
   ]
  },
  {
   "cell_type": "code",
   "execution_count": null,
   "id": "c982d6bb",
   "metadata": {},
   "outputs": [],
   "source": [
    "function σfun(ε,ε_in,s_in)\n",
    "    σ_elas = C_mat⊙ε\n",
    "    if tr(ε_in) >= 0\n",
    "        σ = (s_in ^2+η)*σ_elas\n",
    "    elseif  tr(ε_in) < 0\n",
    "        σ = (s_in ^2+η)*P_dev ⊙ σ_elas + P_vol ⊙ σ_elas\n",
    "    end\n",
    "    return  σ\n",
    "end"
   ]
  },
  {
   "cell_type": "code",
   "execution_count": null,
   "id": "e386756e",
   "metadata": {},
   "outputs": [],
   "source": [
    "function ψPos(ε_in)\n",
    "   σ_elas = C_mat⊙ε_in\n",
    "    if tr(ε_in) >= 0\n",
    "        ψPlus = 0.5*(ε_in ⊙ σ_elas)\n",
    "    elseif  tr(ε_in) < 0\n",
    "        ψPlus = 0.5*((P_dev ⊙ σ_elas)⊙(P_dev⊙ε_in))\n",
    "    end\n",
    "    return ψPlus\n",
    "end"
   ]
  },
  {
   "cell_type": "code",
   "execution_count": null,
   "id": "1e19cafe",
   "metadata": {},
   "outputs": [],
   "source": [
    "function  new_EnergyState(ψPlusPrev_in,ψhPos_in)\n",
    "    ψPlus_in = ψhPos_in\n",
    "    if ψPlus_in  >=ψPlusPrev_in\n",
    "        ψPlus_out =ψPlus_in\n",
    "    else\n",
    "        ψPlus_out=ψPlusPrev_in\n",
    "    end\n",
    "    true,ψPlus_out\n",
    "end"
   ]
  },
  {
   "cell_type": "code",
   "execution_count": null,
   "id": "af79b4ac",
   "metadata": {},
   "outputs": [],
   "source": [
    "function  project(q,model ,dΩ,order)\n",
    "    reffe = ReferenceFE(lagrangian ,Float64 ,order)\n",
    "    V = FESpace(model ,reffe ,conformity =:L2)\n",
    "    a(u,v) =∫(u*v)*dΩ\n",
    "    b(v) =∫(v*q)*dΩ\n",
    "    op = AffineFEOperator(a,b,V,V)\n",
    "    qh = solve(op)\n",
    "    return  qh\n",
    "end"
   ]
  },
  {
   "cell_type": "code",
   "execution_count": null,
   "id": "6ae942d6",
   "metadata": {},
   "outputs": [],
   "source": [
    "order = 1\n",
    "reffe_PF = ReferenceFE(lagrangian ,Float64,order)\n",
    "V0_PF = TestFESpace(model ,reffe_PF;conformity =:H1)\n",
    "U_PF = TrialFESpace(V0_PF)\n",
    "sh = zero(V0_PF)"
   ]
  },
  {
   "cell_type": "code",
   "execution_count": null,
   "id": "7a9b2318",
   "metadata": {},
   "outputs": [],
   "source": [
    "reffe_Disp = ReferenceFE(lagrangian ,VectorValue{2,Float64},order)\n",
    "V0_Disp = TestFESpace(model,reffe_Disp;conformity =:H1,\n",
    "    dirichlet_tags = [\"DirichletBot\",\"DirichletTop\"],\n",
    "    dirichlet_masks =[(true ,true), (false ,true)])\n",
    "\n",
    "uh = zero(V0_Disp)"
   ]
  },
  {
   "cell_type": "code",
   "execution_count": null,
   "id": "cadb4ce1",
   "metadata": {},
   "outputs": [],
   "source": [
    "degree = 2*order\n",
    "Ω= Triangulation(model)\n",
    "dΩ= Measure(Ω,degree)"
   ]
  },
  {
   "cell_type": "code",
   "execution_count": null,
   "id": "0adf7da9",
   "metadata": {},
   "outputs": [],
   "source": [
    "labels = get_face_labeling(model)\n",
    "LoadTagId = get_tag_from_name(labels ,\"DirichletTop\")\n",
    "Γ_Load = BoundaryTriangulation(model ,tags = LoadTagId)\n",
    "dΓ_Load = Measure(Γ_Load ,degree)\n",
    "n_Γ_Load = get_normal_vector(Γ_Load)"
   ]
  },
  {
   "cell_type": "code",
   "execution_count": null,
   "id": "a620e73f",
   "metadata": {},
   "outputs": [],
   "source": [
    "function   stepPhaseField(uh_in ,ΨPlusPrev_in)\n",
    "    a_PF(s,φ) =∫( Gc*ls*∇(φ)⋅∇(s)+ 2*ΨPlusPrev_in*s*φ+ (Gc/ls)*s*φ)*dΩ\n",
    "    b_PF(φ) =∫( (Gc/ls)*φ)*dΩ\n",
    "    op_PF = AffineFEOperator(a_PF,b_PF ,U_PF ,V0_PF)\n",
    "    sh_out = solve(op_PF)\n",
    "    return  sh_out\n",
    "end"
   ]
  },
  {
   "cell_type": "code",
   "execution_count": null,
   "id": "66ff0298",
   "metadata": {},
   "outputs": [],
   "source": [
    "function  stepDisp(uh_in,sh_in ,vApp)\n",
    "    uApp1(x) = VectorValue(0.0,0.0)\n",
    "    uApp2(x) = VectorValue(0.0,vApp)\n",
    "    U_Disp = TrialFESpace(V0_Disp ,[uApp1 ,uApp2])\n",
    "    a_Disp(u,v) =∫( (ε(v)⊙(σfun∘(ε(u),ε(uh_in),sh_in)) ) )*dΩ\n",
    "    b_Disp(v) = 0.0\n",
    "    op_Disp = AffineFEOperator(a_Disp ,b_Disp ,U_Disp ,V0_Disp)\n",
    "    uh_out = solve(op_Disp)\n",
    "    return  uh_out\n",
    "end"
   ]
  },
  {
   "cell_type": "code",
   "execution_count": null,
   "id": "82ed0a09",
   "metadata": {
    "scrolled": true
   },
   "outputs": [],
   "source": [
    "vApp = 0.0\n",
    "delv = 1e-2\n",
    "const  vAppMax = 0.56\n",
    "innerMax = 10\n",
    "count = 0\n",
    "Load = Float64[]\n",
    "Displacement = Float64[]\n",
    "\n",
    "push!(Load, 0.0)\n",
    "push!(Displacement, 0.0)\n",
    "\n",
    "sPrev = CellState(1.0,dΩ)\n",
    "sh = project(sPrev ,model ,dΩ,order)\n",
    "ψPlusPrev = CellState(0.0,dΩ)\n",
    "\n",
    "while  vApp .< vAppMax\n",
    "    count = count  .+ 1\n",
    "    if vApp  >= 0.38\n",
    "        delv = 5e-4\n",
    "    end\n",
    "    \n",
    "    vApp = vApp .+ delv\n",
    "    print(\"\\n Entering  displacemtent  step :\", float(vApp))\n",
    "    for  inner = 1: innerMax\n",
    "        ψhPlusPrev = project(ψPlusPrev ,model ,dΩ,order)\n",
    "        RelErr = abs(sum(∫( Gc*ls*∇(sh)⋅∇(sh) + 2*ψhPlusPrev*sh*sh + (Gc/ls)*sh*sh)*dΩ-∫( (Gc/ls)*sh)*dΩ))/abs(sum(∫( (Gc/ls)*sh)*dΩ))\n",
    "        print(\"\\n Relative error = \",float(RelErr))\n",
    "        sh = stepPhaseField(uh,ψhPlusPrev)\n",
    "        uh = stepDisp(uh,sh,vApp)\n",
    "        ψhPos_in =ψPos∘(ε(uh))\n",
    "        update_state!( new_EnergyState ,ψPlusPrev ,ψhPos_in)\n",
    "        if   RelErr  < 1e-8\n",
    "            break\n",
    "        end\n",
    "    end\n",
    "    Node_Force = sum(∫(n_Γ_Load⋅(σfun∘(ε(uh),ε(uh),sh)))*dΓ_Load)\n",
    "    push!(Load , Node_Force[2])\n",
    "    push!( Displacement , vApp)\n",
    "    writevtk(Ω,\"results_NotchedPlatewithHoleTest$count\",cellfields= [\"uh\"=>uh ,\"s\"=>sh])\n",
    " end"
   ]
  },
  {
   "cell_type": "code",
   "execution_count": null,
   "id": "59a3ecf2",
   "metadata": {},
   "outputs": [],
   "source": [
    "plot(Displacement,Load*1e-3)"
   ]
  }
 ],
 "metadata": {
  "kernelspec": {
   "display_name": "Julia 1.5.3",
   "language": "julia",
   "name": "julia-1.5"
  },
  "language_info": {
   "file_extension": ".jl",
   "mimetype": "application/julia",
   "name": "julia",
   "version": "1.5.3"
  }
 },
 "nbformat": 4,
 "nbformat_minor": 5
}
