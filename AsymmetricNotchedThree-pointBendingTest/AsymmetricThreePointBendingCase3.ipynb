{
 "cells": [
  {
   "cell_type": "markdown",
   "id": "56cc64c0",
   "metadata": {},
   "source": [
    " # Strong Form\n",
    " \n",
    " $\\nabla \\cdot\\biggl(s^2\\left(\\langle p\\rangle_+\\boldsymbol{I} + \\mathbb{I}_{dev}\\mathbb{C} \\boldsymbol{\\epsilon}\\right) + \\langle p\\rangle_- \\boldsymbol{I}\\biggr) = {\\bf{0}}$\n",
    " \n",
    " $ \\nabla \\cdot \\biggl(G_cl\\boldsymbol{A}\\nabla s\\biggr) - s\\biggl(\\langle p \\rangle_+\\boldsymbol{I}:\\mathbb{I}_{vol}\\boldsymbol{\\epsilon} + \\mathbb{I}_{dev}\\mathbb{C}\\boldsymbol{\\epsilon}:\\mathbb{I}_{dev}\\boldsymbol{\\epsilon}\\biggr)+\\frac{G_c}{l}\\left(1-s\\right) = 0$\n",
    "\n",
    "\n",
    "### In case of positive hydrostatic strain i.e $\\text{tr}(\\boldsymbol{\\epsilon})\\geq 0$\n",
    "$\\langle p \\rangle_+ = p = \\boldsymbol{I}: \\boldsymbol{\\sigma}_{vol} = \\boldsymbol{I}: \\mathbb{I}_{vol}\\mathbb{C}  \\boldsymbol{\\epsilon}$    and      $\\langle p \\rangle_- = 0 $\n",
    "\n",
    "$\\mathbb{C}_{mod} = \\mathbb{C}_{+} = s^2\\left(\\mathbb{I}_{vol}\\mathbb{C} + \\mathbb{I}_{dev}\\mathbb{C}\\right) = s^2 \\mathbb{C}$\n",
    "\n",
    "### In case of negative hydrostatic strain $\\text{tr}(\\boldsymbol{\\epsilon})< 0$\n",
    "$\\langle p \\rangle_+ = 0 $   and    $\\langle p \\rangle_- = p =  \\boldsymbol{I}: \\boldsymbol{\\sigma}_{vol} = \\boldsymbol{I}:\\mathbb{I}_{vol}\\mathbb{C}  \\boldsymbol{\\epsilon}$\n",
    "\n",
    "$\\mathbb{C}_{mod} = \\mathbb{C}_{-} = s^2\\bigl(\\mathbb{I}_{dev}\\mathbb{C}\\bigr) + \\mathbb{I}_{vol}\\mathbb{C}$\n",
    "\n",
    "\n",
    " ## Strong Form in terms of $\\mathbb{C}_{mod}$ and $\\mathcal{H}(\\mathcal{E})$\n",
    " \n",
    " $\\nabla \\cdot \\boldsymbol{\\sigma} = {\\bf{0}}$\n",
    " \n",
    " $ \\nabla \\cdot \\biggl(G_cl\\boldsymbol{A}\\nabla s\\biggr) - 2s\\mathcal{H}(\\mathcal{E})+\\frac{G_c}{l}\\left(1-s\\right) = 0$\n",
    "\n",
    "where \n",
    "\n",
    "$\\boldsymbol{\\sigma} = \\mathbb{C}_{mod} \\boldsymbol{\\epsilon}$\n",
    "\n",
    "$\\mathcal{E} = \\frac{1}{2}\\biggl(\\langle p \\rangle_+\\boldsymbol{I}:\\mathbb{I}_{vol}\\boldsymbol{\\epsilon} + \\mathbb{I}_{dev}\\mathbb{C}\\boldsymbol{\\epsilon}:\\mathbb{I}_{dev}\\boldsymbol{\\epsilon}\\biggr)$\n",
    "\n",
    "\n",
    "$\\mathcal{H}(f) = \\text{max}_{\\tau \\in [0,t]}f(\\tau)$\n"
   ]
  },
  {
   "cell_type": "markdown",
   "id": "ff2dd3bf",
   "metadata": {},
   "source": [
    " # Weak Form\n",
    "\n",
    "### For elasticity part\n",
    " \n",
    " $ a(\\boldsymbol{u},\\boldsymbol{v}) = \\int_{\\Omega} \\epsilon(\\boldsymbol{v}):\\sigma(\\boldsymbol{u}) d{\\Omega}$\n",
    "\n",
    " $ l(\\boldsymbol{v}) = 0$\n",
    "\n",
    "### For phase-field part\n",
    " \n",
    " $ a(s,\\phi) = \\int_{\\Omega}\\bigl(G_cl\\nabla s \\cdot \\nabla \\phi + 2s \\phi\\mathcal{H}({\\mathcal{E}}) +   \\frac{G_c}{l} s \\phi\\bigr)d\\Omega$\n",
    "\n",
    " $ l(\\phi) = \\int_{\\Omega}\\frac{G_c}{l}\\phi d{\\Omega}$"
   ]
  },
  {
   "cell_type": "code",
   "execution_count": 1,
   "id": "aware-aruba",
   "metadata": {},
   "outputs": [],
   "source": [
    "using Gmsh: gmsh\n",
    "using GridapGmsh\n",
    "using Gridap\n",
    "using Gridap.Geometry\n",
    "using Gridap.TensorValues\n",
    "using PyPlot"
   ]
  },
  {
   "cell_type": "markdown",
   "id": "recorded-acoustic",
   "metadata": {},
   "source": [
    "## Definitions of Tensorial Quantities:\n",
    "\n",
    "$\\boldsymbol{I} = \\delta_{ij} \\boldsymbol{e}_i\\otimes\\boldsymbol{e}_j$\n",
    "\n",
    "$\\mathbb{I} = \\boldsymbol{I}\\otimes\\boldsymbol{I}$\n",
    "\n",
    "$\\mathbb{I}_{sym} = \\frac{1}{2}\\biggl(\\mathbb{I}+\\mathbb{I}^T\\biggr)$\n",
    "\n",
    "$\\mathbb{I}_{skw} = \\frac{1}{2}\\biggl(\\mathbb{I}-\\mathbb{I}^T\\biggr)$\n",
    "\n",
    "$\\mathbb{I}_{vol} = \\frac{1}{3}\\biggl(\\boldsymbol{I}\\otimes\\boldsymbol{I}\\biggr)$\n",
    "\n",
    "$\\mathbb{I}_{dev} = \\mathbb{I}_{sym} - \\mathbb{I}_{vol}$\n",
    "\n",
    "$\\boldsymbol{\\epsilon}_{vol} = \\frac{1}{3}\\text{tr}(\\boldsymbol{\\epsilon}) \\boldsymbol{I} = \\frac{1}{3}\\biggl(\\boldsymbol{\\epsilon}:\\boldsymbol{I}\\biggr)\\boldsymbol{I} = \\frac{1}{3}\\biggl(\\boldsymbol{I}\\otimes\\boldsymbol{I}\\biggr)\\boldsymbol{\\epsilon} = \\mathbb{I}_{vol} \\boldsymbol{\\epsilon} $\n",
    "\n",
    "$\\boldsymbol{\\epsilon}_{dev} = \\boldsymbol{\\epsilon} - \\boldsymbol{\\epsilon}_{vol} = \\biggl(\\mathbb{I}_{sym} -  \\mathbb{I}_{vol}\\biggl) \\boldsymbol{\\epsilon} = \\mathbb{I}_{dev} \\boldsymbol{\\epsilon}$\n",
    "\n",
    "$\\boldsymbol{\\sigma}_{vol} = p \\boldsymbol{I} = \\frac{1}{3}\\biggl(\\boldsymbol{\\sigma}:\\boldsymbol{I}\\biggr)\\boldsymbol{I} = \\frac{1}{3}\\biggl(\\boldsymbol{I}\\otimes\\boldsymbol{I}\\biggr)\\boldsymbol{\\sigma} = \\mathbb{I}_{vol} \\boldsymbol{\\sigma} = \\mathbb{I}_{vol}\\mathbb{C} \\boldsymbol{\\epsilon}$\n",
    "\n",
    "$\\boldsymbol{\\sigma}_{dev} = \\boldsymbol{\\sigma} - \\boldsymbol{\\sigma}_{vol} = \\biggl(\\mathbb{I}_{sym} -  \\mathbb{I}_{vol}\\biggl) \\boldsymbol{\\sigma} = \\mathbb{I}_{dev} \\boldsymbol{\\sigma}=\\mathbb{I}_{dev} \\mathbb{C} \\boldsymbol{\\epsilon}$"
   ]
  },
  {
   "cell_type": "code",
   "execution_count": 2,
   "id": "prime-nigeria",
   "metadata": {},
   "outputs": [
    {
     "data": {
      "text/plain": [
       "SymFourthOrderTensorValue{2,Float64,9}(0.6666666666666667, 0.0, 0.0, 0.0, 0.33333333333333337, 0.0, 0.0, 0.0, 0.6666666666666667)"
      ]
     },
     "execution_count": 2,
     "metadata": {},
     "output_type": "execute_result"
    }
   ],
   "source": [
    "I2 = one(TensorValue{2,2,Float64})\n",
    "I4_sym = one(SymFourthOrderTensorValue{2,Float64})\n",
    "I4_vol = (1.0/2)*I4_sym\n",
    "I4_dev = I4_sym - I4_vol"
   ]
  },
  {
   "cell_type": "code",
   "execution_count": 3,
   "id": "f4c527ce",
   "metadata": {},
   "outputs": [
    {
     "data": {
      "text/plain": [
       "0.4"
      ]
     },
     "execution_count": 3,
     "metadata": {},
     "output_type": "execute_result"
    }
   ],
   "source": [
    "const L = 20.0\n",
    "const LL = 0.475.*L\n",
    "const LR = 0.525.*L\n",
    "\n",
    "const H = 8.0\n",
    "const CH = 1.5 #Crack height\n",
    "const CW = L/2000 #Crack Width\n",
    "const e₁ = 4.75\n",
    "const CP = L/2 - e₁\n",
    "const SD = 1.0\n",
    "const HP = 6.0\n",
    "const HR = 0.25\n",
    "const HH1 = 2.75\n",
    "const HH2 = 4.75\n",
    "const HH3 = 6.75\n",
    "const lsp = 0.01\n",
    "\n",
    "const hfc = lsp/50  #Mesh size parameter\n",
    "const hf = lsp/2.1 #Mesh size parameter\n",
    "const hfl = 50*hf  #Mesh size parameter\n",
    "const hfh = hf  #Mesh size parameter\n",
    "\n",
    "const h = 100*hf #Mesh size parameter\n",
    "\n",
    "θ = π/180\n",
    "cr1 = CP+(CW/2) + HP*tan(θ)\n",
    "cr2 = CP-(CW/2) + HP*tan(θ)\n",
    "\n",
    "const FMR = 40*lsp"
   ]
  },
  {
   "cell_type": "code",
   "execution_count": 4,
   "id": "e5aa1114",
   "metadata": {},
   "outputs": [
    {
     "name": "stdout",
     "output_type": "stream",
     "text": [
      "Info    : Meshing 1D...\n",
      "Info    : Meshing curve 1 (Line)\n",
      "Info    : Meshing curve 2 (Line)\n",
      "Info    : Meshing curve 3 (Line)\n",
      "Info    : Meshing curve 4 (Line)\n",
      "Info    : Meshing curve 5 (Line)\n",
      "Info    : Meshing curve 6 (Line)\n",
      "Info    : Meshing curve 7 (Line)\n",
      "Info    : Meshing curve 8 (Line)\n",
      "Info    : Meshing curve 9 (Line)\n",
      "Info    : Meshing curve 10 (Line)\n",
      "Info    : Meshing curve 11 (Line)\n",
      "Info    : Meshing curve 12 (Line)\n",
      "Info    : Meshing curve 13 (Circle)\n",
      "Info    : Meshing curve 14 (Circle)\n",
      "Info    : Meshing curve 15 (Circle)\n",
      "Info    : Meshing curve 16 (Circle)\n",
      "Info    : Meshing curve 17 (Circle)\n",
      "Info    : Meshing curve 18 (Circle)\n",
      "Info    : Meshing curve 19 (Line)\n",
      "Info    : Meshing curve 20 (Line)\n",
      "Info    : Meshing curve 21 (Line)\n",
      "Info    : Meshing curve 22 (Line)\n",
      "Info    : Done meshing 1D (0.033519 s)\n",
      "Info    : Meshing 2D...\n",
      "Info    : Meshing surface 1 (Plane, Delaunay)\n",
      "Info    : Done meshing 2D (6.18822 s)\n",
      "Info    : 204698 vertices 407288 elements\n",
      "Info    : Writing 'AsymThreePtBending.msh'...\n",
      "Info    : Done writing 'AsymThreePtBending.msh'\n"
     ]
    }
   ],
   "source": [
    "gmsh.initialize()\n",
    "gmsh.option.setNumber(\"General.Terminal\", 1)\n",
    "\n",
    "p1 = gmsh.model.geo.addPoint(CP+(CW/2), 0.0 , 0.0, h)\n",
    "p2 = gmsh.model.geo.addPoint(L-SD, 0.0, 0.0, h)\n",
    "p3 = gmsh.model.geo.addPoint(L, 0.0, 0.0, h)\n",
    "p4 = gmsh.model.geo.addPoint(L, H, 0.0, h)\n",
    "p5 = gmsh.model.geo.addPoint(LR, H, 0.0, hfl)\n",
    "p6 = gmsh.model.geo.addPoint(LL, H, 0.0, hfl)\n",
    "p7 = gmsh.model.geo.addPoint(0.0, H, 0.0, h)\n",
    "p8 = gmsh.model.geo.addPoint(0.0, 0.0, 0.0, h)\n",
    "p9 = gmsh.model.geo.addPoint(SD, 0.0, 0.0, h)\n",
    "p10 = gmsh.model.geo.addPoint(CP-(CW/2), 0.0, 0.0, h)\n",
    "p11 = gmsh.model.geo.addPoint(CP-(CW/2), CH, 0.0, hfc) \n",
    "p12 = gmsh.model.geo.addPoint(CP+(CW/2), CH, 0.0, hfc)  \n",
    "\n",
    "l1 = gmsh.model.geo.addLine(p1, p2)\n",
    "l2 = gmsh.model.geo.addLine(p2, p3)\n",
    "l3 = gmsh.model.geo.addLine(p3, p4)\n",
    "l4 = gmsh.model.geo.addLine(p4, p5)\n",
    "l5 = gmsh.model.geo.addLine(p5, p6)\n",
    "l6 = gmsh.model.geo.addLine(p6, p7)\n",
    "l7 = gmsh.model.geo.addLine(p7, p8)\n",
    "l8 = gmsh.model.geo.addLine(p8, p9)\n",
    "l9 = gmsh.model.geo.addLine(p9, p10) \n",
    "l10 = gmsh.model.geo.addLine(p10, p11) \n",
    "l11 = gmsh.model.geo.addLine(p11, p12) \n",
    "l12 = gmsh.model.geo.addLine(p12, p1) \n",
    "cl1 = gmsh.model.geo.addCurveLoop([l1,l2,l3,l4,l5,l6,l7,l8,l9,l10,l11,l12]) \n",
    "\n",
    "\n",
    "p13 = gmsh.model.geo.addPoint(HP-HR, HH1, 0.0, hfh)\n",
    "p14 = gmsh.model.geo.addPoint(HP+HR, HH1, 0.0, hfh)\n",
    "p15 = gmsh.model.geo.addPoint(HP, HH1, 0.0, hfh)\n",
    "\n",
    "ca1 = gmsh.model.geo.addCircleArc(p13, p15, p14)\n",
    "ca2 = gmsh.model.geo.addCircleArc(p14, p15, p13)\n",
    "cl2 = gmsh.model.geo.addCurveLoop([ca1,ca2])\n",
    "\n",
    "p16 = gmsh.model.geo.addPoint(HP-HR, HH2, 0.0, hfh)\n",
    "p17 = gmsh.model.geo.addPoint(HP+HR, HH2, 0.0, hfh)\n",
    "p18 = gmsh.model.geo.addPoint(HP, HH2, 0.0, hfh)\n",
    "\n",
    "ca3 = gmsh.model.geo.addCircleArc(p16, p18, p17)\n",
    "ca4 = gmsh.model.geo.addCircleArc(p17, p18, p16)\n",
    "cl3 = gmsh.model.geo.addCurveLoop([ca3,ca4])\n",
    "\n",
    "p19 = gmsh.model.geo.addPoint(HP-HR, HH3, 0.0, hfh)\n",
    "p20 = gmsh.model.geo.addPoint(HP+HR, HH3, 0.0, hfh)\n",
    "p21 = gmsh.model.geo.addPoint(HP, HH3, 0.0, hfh)\n",
    "\n",
    "ca5 = gmsh.model.geo.addCircleArc(p19, p21, p20)\n",
    "ca6 = gmsh.model.geo.addCircleArc(p20, p21, p19)\n",
    "cl4 = gmsh.model.geo.addCurveLoop([ca5,ca6])\n",
    "\n",
    "ps1 = gmsh.model.geo.addPlaneSurface([cl1,-cl2,-cl3,-cl4])\n",
    "\n",
    "pg1 = gmsh.model.addPhysicalGroup(2, [ps1])\n",
    "\n",
    "pg2 = gmsh.model.addPhysicalGroup(1, [l5])\n",
    "pg3 = gmsh.model.addPhysicalGroup(0, [p9])\n",
    "pg4 = gmsh.model.addPhysicalGroup(0, [p2])\n",
    "\n",
    "gmsh.model.setPhysicalName(2, pg1, \"Domain\")\n",
    "\n",
    "\n",
    "gmsh.model.setPhysicalName(1, pg2, \"LoadLine\")\n",
    "gmsh.model.setPhysicalName(0, pg3, \"LeftSupport\")\n",
    "gmsh.model.setPhysicalName(0, pg4, \"RightSupport\")\n",
    "\n",
    "p22 = gmsh.model.geo.addPoint(CP-(CW/2), 0.8*CH, 0.0, hf) \n",
    "p23 = gmsh.model.geo.addPoint(CP+(CW/2), 0.8*CH, 0.0, hf) \n",
    "\n",
    "p24 = gmsh.model.geo.addPoint(HP, cr1, 0.0, hf)\n",
    "p25 = gmsh.model.geo.addPoint(HP, cr2, 0.0, hf)\n",
    "\n",
    "l13 = gmsh.model.geo.addLine(p22, p24)\n",
    "l14 = gmsh.model.geo.addLine(p23, p25)\n",
    "\n",
    "\n",
    "gmsh.model.mesh.field.add(\"Distance\", 1)\n",
    "gmsh.model.mesh.field.setNumbers(1, \"EdgesList\", [l13,l14])\n",
    "\n",
    "gmsh.model.mesh.field.add(\"Threshold\", 2)\n",
    "gmsh.model.mesh.field.setNumber(2, \"IField\", 1)\n",
    "gmsh.model.mesh.field.setNumber(2, \"LcMin\", hf)\n",
    "gmsh.model.mesh.field.setNumber(2, \"LcMax\", h)\n",
    "gmsh.model.mesh.field.setNumber(2, \"DistMin\", FMR)\n",
    "gmsh.model.mesh.field.setNumber(2, \"DistMax\", 1.5*FMR)\n",
    "\n",
    "l15 = gmsh.model.geo.addLine(p24,p6)\n",
    "l16 = gmsh.model.geo.addLine(p23, p5)\n",
    "\n",
    "gmsh.model.mesh.field.add(\"Distance\", 3)\n",
    "gmsh.model.mesh.field.setNumbers(3, \"EdgesList\", [l15,l16])\n",
    "\n",
    "gmsh.model.mesh.field.add(\"Threshold\", 4)\n",
    "gmsh.model.mesh.field.setNumber(4, \"IField\", 3)\n",
    "gmsh.model.mesh.field.setNumber(4, \"LcMin\", hfl)\n",
    "gmsh.model.mesh.field.setNumber(4, \"LcMax\", h)\n",
    "gmsh.model.mesh.field.setNumber(4, \"DistMin\", FMR)\n",
    "gmsh.model.mesh.field.setNumber(4, \"DistMax\", 1.5*FMR)\n",
    "\n",
    "\n",
    "gmsh.model.mesh.field.add(\"Min\",5)\n",
    "gmsh.model.mesh.field.setNumbers(5, \"FieldsList\",[2,4])\n",
    "gmsh.model.mesh.field.setAsBackgroundMesh(5)\n",
    "gmsh.model.geo.synchronize()\n",
    "gmsh.model.mesh.generate(2)\n",
    "gmsh.write(\"AsymThreePtBending.msh\")\n",
    "gmsh.finalize()"
   ]
  },
  {
   "cell_type": "code",
   "execution_count": 5,
   "id": "dangerous-preference",
   "metadata": {},
   "outputs": [
    {
     "name": "stdout",
     "output_type": "stream",
     "text": [
      "Info    : Reading 'AsymThreePtBending.msh'...\n",
      "Info    : 48 entities\n",
      "Info    : 202564 nodes\n",
      "Info    : [ 10%] Reading nodes                                          \r",
      "Info    : [ 20%] Reading nodes                                          \r",
      "Info    : [ 30%] Reading nodes                                          \r",
      "Info    : [ 40%] Reading nodes                                          \r",
      "Info    : [ 50%] Reading nodes                                          \r",
      "Info    : [ 50%] Reading nodes                                          \r",
      "Info    : [ 60%] Reading nodes                                          \r",
      "Info    : [ 70%] Reading nodes                                          \r",
      "Info    : [ 80%] Reading nodes                                          \r",
      "Info    : [ 90%] Reading nodes                                          \r",
      "Info    : [100%] Reading nodes                                          \r",
      "                                          \r",
      "Info    : 403724 elements\n",
      "Info    : [ 10%] Reading elements                                          \r",
      "Info    : [ 20%] Reading elements                                          \r",
      "Info    : [ 30%] Reading elements                                          \r",
      "Info    : [ 40%] Reading elements                                          \r",
      "Info    : [ 50%] Reading elements                                          \r",
      "Info    : [ 50%] Reading elements                                          \r",
      "Info    : [ 60%] Reading elements                                          \r",
      "Info    : [ 70%] Reading elements                                          \r",
      "Info    : [ 80%] Reading elements                                          \r",
      "Info    : [ 90%] Reading elements                                          \r",
      "Info    : [100%] Reading elements                                          \r",
      "                                          \r",
      "Info    : Done reading 'AsymThreePtBending.msh'\n"
     ]
    },
    {
     "data": {
      "text/plain": [
       "3-element Array{Array{String,1},1}:\n",
       " [\"AsymThreePtBending_0.vtu\"]\n",
       " [\"AsymThreePtBending_1.vtu\"]\n",
       " [\"AsymThreePtBending_2.vtu\"]"
      ]
     },
     "execution_count": 5,
     "metadata": {},
     "output_type": "execute_result"
    }
   ],
   "source": [
    "model = GmshDiscreteModel(\"AsymThreePtBending.msh\")\n",
    "writevtk(model,\"AsymThreePtBending\")"
   ]
  },
  {
   "cell_type": "markdown",
   "id": "fundamental-blowing",
   "metadata": {},
   "source": [
    "## Input paramters for Phase Field Model"
   ]
  },
  {
   "cell_type": "markdown",
   "id": "foreign-anderson",
   "metadata": {},
   "source": [
    "#### Input elasticity parameters"
   ]
  },
  {
   "cell_type": "code",
   "execution_count": 6,
   "id": "healthy-grave",
   "metadata": {},
   "outputs": [
    {
     "data": {
      "text/plain": [
       "175925.92592592593"
      ]
     },
     "execution_count": 6,
     "metadata": {},
     "output_type": "execute_result"
    }
   ],
   "source": [
    "const E_mat = 4.75e5\n",
    "const ν_mat = 0.35\n",
    "\n",
    "G₁₂_mat = E_mat/(2*(1+ν_mat))"
   ]
  },
  {
   "cell_type": "markdown",
   "id": "waiting-uncle",
   "metadata": {},
   "source": [
    "#### Input fracture parameters"
   ]
  },
  {
   "cell_type": "code",
   "execution_count": 7,
   "id": "otherwise-newman",
   "metadata": {},
   "outputs": [
    {
     "data": {
      "text/plain": [
       "1.0e-15"
      ]
     },
     "execution_count": 7,
     "metadata": {},
     "output_type": "execute_result"
    }
   ],
   "source": [
    "const Gc = 1.8\n",
    "const η = 1e-15"
   ]
  },
  {
   "cell_type": "markdown",
   "id": "a53a7322",
   "metadata": {},
   "source": [
    "## Constitutive Tensors"
   ]
  },
  {
   "cell_type": "code",
   "execution_count": 8,
   "id": "e78be159",
   "metadata": {},
   "outputs": [
    {
     "data": {
      "text/plain": [
       "SymFourthOrderTensorValue{2,Float64,9}(762345.6790123456, 0.0, 410493.8271604938, 0.0, 175925.92592592593, 0.0, 410493.8271604938, 0.0, 762345.6790123456)"
      ]
     },
     "execution_count": 8,
     "metadata": {},
     "output_type": "execute_result"
    }
   ],
   "source": [
    "function ElasFourthOrderConstTensor(E₁,E₂,ν₁₂,ν₂₁,G₁₂,PlanarState)\n",
    "    # 1 for Plane Stress and 2 Plane Strain Condition \n",
    "  if PlanarState == 1\n",
    "      C1111 = E₁/(1-ν₁₂*ν₂₁)\n",
    "      C1122 = (ν₂₁*E₁)/(1-ν₁₂*ν₂₁)\n",
    "      C1112 = 0.0\n",
    "      C2222 = E₂/(1-ν₁₂*ν₂₁)\n",
    "      C2212 = 0.0\n",
    "      C1212 = G₁₂     \n",
    "  elseif PlanarState == 2\n",
    "      C1111 = (E₁*(1-ν₁₂*ν₂₁))/((1+ν₁₂)*(1-ν₁₂-2*ν₁₂*ν₂₁))\n",
    "      C1122 = (ν₂₁*E₁)/(1-ν₁₂-2*ν₁₂*ν₂₁)\n",
    "      C1112 = 0.0\n",
    "      C2222 = (E₂*(1-ν₁₂))/(1-ν₁₂-2*ν₁₂*ν₂₁)\n",
    "      C2212 = 0.0\n",
    "      C1212 = G₁₂ \n",
    "  end\n",
    "  C_ten = SymFourthOrderTensorValue(C1111,C1112,C1122,C1112,C1212,C2212,C1122,C2212,C2222)\n",
    "    return  C_ten\n",
    "end\n",
    "const C_mat = ElasFourthOrderConstTensor(E_mat,E_mat,ν_mat,ν_mat,G₁₂_mat,2)"
   ]
  },
  {
   "cell_type": "markdown",
   "id": "20b0aa7e",
   "metadata": {},
   "source": [
    "## Stress\n",
    "\n",
    "$\\sigma_{elas}(\\epsilon(\\boldsymbol{u})) =  \\mathbb{C}\\,\\boldsymbol{\\epsilon}$\n",
    "\n",
    "$\\sigma(\\epsilon(\\boldsymbol{u}),s) =  \\mathbb{C}_{mod}\\,\\boldsymbol{\\epsilon}$"
   ]
  },
  {
   "cell_type": "code",
   "execution_count": 9,
   "id": "imperial-transportation",
   "metadata": {},
   "outputs": [
    {
     "data": {
      "text/plain": [
       "σ_mod (generic function with 1 method)"
      ]
     },
     "execution_count": 9,
     "metadata": {},
     "output_type": "execute_result"
    }
   ],
   "source": [
    "σ_elas(ε) = C_mat ⊙ ε\n",
    "\n",
    "function σ_mod(ε, ε_in, s_in)  \n",
    " if tr(ε_in)  >= 0\n",
    "      σ = (s_in^2 + η)*σ_elas(ε)\n",
    "  elseif tr(ε_in) < 0\n",
    "      σ = (s_in^2 + η) *I4_dev ⊙ σ_elas(ε) + I4_vol⊙ σ_elas(ε)\n",
    "  end  \n",
    "    return σ\n",
    "end"
   ]
  },
  {
   "cell_type": "markdown",
   "id": "intensive-contents",
   "metadata": {},
   "source": [
    "### Elastic Strain Energy"
   ]
  },
  {
   "cell_type": "code",
   "execution_count": 10,
   "id": "wanted-palestine",
   "metadata": {},
   "outputs": [
    {
     "data": {
      "text/plain": [
       "ψPos (generic function with 1 method)"
      ]
     },
     "execution_count": 10,
     "metadata": {},
     "output_type": "execute_result"
    }
   ],
   "source": [
    "function ψPos(ε_in)   \n",
    " if tr(ε_in) >= 0\n",
    "      ψPlus = 0.5*(ε_in ⊙ σ_elas(ε_in))\n",
    "  elseif tr(ε_in) < 0\n",
    "      ψPlus = 0.5*((I4_dev ⊙ σ_elas(ε_in)) ⊙ (I4_dev ⊙ ε_in)) \n",
    "  end  \n",
    "    return ψPlus\n",
    "end"
   ]
  },
  {
   "cell_type": "code",
   "execution_count": 11,
   "id": "342c588e",
   "metadata": {},
   "outputs": [
    {
     "data": {
      "text/plain": [
       "new_EnergyState (generic function with 1 method)"
      ]
     },
     "execution_count": 11,
     "metadata": {},
     "output_type": "execute_result"
    }
   ],
   "source": [
    "function new_EnergyState(ψPlusPrev_in,ψhPos_in)\n",
    "  ψPlus_in = ψhPos_in\n",
    "  if ψPlus_in >= ψPlusPrev_in\n",
    "    ψPlus_out = ψPlus_in\n",
    "  else\n",
    "    ψPlus_out = ψPlusPrev_in\n",
    "  end\n",
    "  true,ψPlus_out\n",
    "end"
   ]
  },
  {
   "cell_type": "markdown",
   "id": "spare-throw",
   "metadata": {},
   "source": [
    "## FE formulation"
   ]
  },
  {
   "cell_type": "code",
   "execution_count": 12,
   "id": "musical-palmer",
   "metadata": {},
   "outputs": [
    {
     "data": {
      "text/plain": [
       "project (generic function with 1 method)"
      ]
     },
     "execution_count": 12,
     "metadata": {},
     "output_type": "execute_result"
    }
   ],
   "source": [
    "function project(q,model,dΩ,order)\n",
    "  reffe = ReferenceFE(lagrangian,Float64,order)\n",
    "  V = FESpace(model,reffe,conformity=:L2)\n",
    "  a(u,v) = ∫( u*v )*dΩ\n",
    "  l(v) = ∫( v*q )*dΩ\n",
    "  op = AffineFEOperator(a,l,V,V)\n",
    "  qh = solve(op)\n",
    "  qh\n",
    "end"
   ]
  },
  {
   "cell_type": "code",
   "execution_count": 13,
   "id": "french-place",
   "metadata": {},
   "outputs": [
    {
     "data": {
      "text/plain": [
       "2"
      ]
     },
     "execution_count": 13,
     "metadata": {},
     "output_type": "execute_result"
    }
   ],
   "source": [
    "order = 1\n",
    "degree = 2*order"
   ]
  },
  {
   "cell_type": "code",
   "execution_count": 14,
   "id": "intermediate-order",
   "metadata": {},
   "outputs": [
    {
     "data": {
      "text/plain": [
       "Measure()"
      ]
     },
     "execution_count": 14,
     "metadata": {},
     "output_type": "execute_result"
    }
   ],
   "source": [
    "Ω = Triangulation(model)\n",
    "dΩ = Measure(Ω,degree)"
   ]
  },
  {
   "cell_type": "code",
   "execution_count": 15,
   "id": "wicked-dakota",
   "metadata": {},
   "outputs": [
    {
     "data": {
      "text/plain": [
       "GenericCellField():\n",
       " num_cells: 5\n",
       " DomainStyle: ReferenceDomain()\n",
       " Triangulation: BoundaryTriangulation()\n",
       " Triangulation id: 8708529075778633726"
      ]
     },
     "execution_count": 15,
     "metadata": {},
     "output_type": "execute_result"
    }
   ],
   "source": [
    "labels = get_face_labeling(model)\n",
    "LoadTagId = get_tag_from_name(labels,\"LoadLine\")\n",
    "Γ_Load = BoundaryTriangulation(model,tags = LoadTagId)\n",
    "dΓ_Load = Measure(Γ_Load,degree)\n",
    "n_Γ_Load = get_normal_vector(Γ_Load)"
   ]
  },
  {
   "cell_type": "code",
   "execution_count": 16,
   "id": "cooperative-hometown",
   "metadata": {},
   "outputs": [
    {
     "data": {
      "text/plain": [
       "SingleFieldFEFunction():\n",
       " num_cells: 403717\n",
       " DomainStyle: ReferenceDomain()\n",
       " Triangulation: UnstructuredGrid()\n",
       " Triangulation id: 5450409863462084834"
      ]
     },
     "execution_count": 16,
     "metadata": {},
     "output_type": "execute_result"
    }
   ],
   "source": [
    "reffe_PF = ReferenceFE(lagrangian,Float64,order)\n",
    "V0_PF = TestFESpace(model,reffe_PF;\n",
    "  conformity=:H1)\n",
    "U_PF = TrialFESpace(V0_PF)\n",
    "sh = zero(V0_PF)"
   ]
  },
  {
   "cell_type": "code",
   "execution_count": 17,
   "id": "vietnamese-disney",
   "metadata": {},
   "outputs": [
    {
     "data": {
      "text/plain": [
       "SingleFieldFEFunction():\n",
       " num_cells: 403717\n",
       " DomainStyle: ReferenceDomain()\n",
       " Triangulation: UnstructuredGrid()\n",
       " Triangulation id: 5450409863462084834"
      ]
     },
     "execution_count": 17,
     "metadata": {},
     "output_type": "execute_result"
    }
   ],
   "source": [
    "reffe_Disp = ReferenceFE(lagrangian,VectorValue{2,Float64},order)\n",
    "        V0_Disp = TestFESpace(model,reffe_Disp;\n",
    "          conformity=:H1,\n",
    "          dirichlet_tags=[\"LeftSupport\",\"RightSupport\",\"LoadLine\"],\n",
    "          dirichlet_masks=[(true,true), (false,true),(false,true)])\n",
    "\n",
    "uh = zero(V0_Disp)"
   ]
  },
  {
   "cell_type": "code",
   "execution_count": 18,
   "id": "antique-italic",
   "metadata": {},
   "outputs": [
    {
     "data": {
      "text/plain": [
       "stepPhaseField (generic function with 1 method)"
      ]
     },
     "execution_count": 18,
     "metadata": {},
     "output_type": "execute_result"
    }
   ],
   "source": [
    "function  stepPhaseField(uh_in,ψPlusPrev_in)\n",
    "        \n",
    "        a_PF(s,ϕ) = ∫( Gc*lsp*∇(ϕ)⋅ ∇(s) + 2*ψPlusPrev_in*s*ϕ + (Gc/lsp)*s*ϕ )*dΩ\n",
    "        b_PF(ϕ) = ∫( (Gc/lsp)*ϕ )*dΩ\n",
    "        op_PF = AffineFEOperator(a_PF,b_PF,U_PF,V0_PF)\n",
    "        sh_out = solve(op_PF)           \n",
    "    \n",
    "    return sh_out\n",
    "    \n",
    "end"
   ]
  },
  {
   "cell_type": "code",
   "execution_count": 19,
   "id": "closing-mistress",
   "metadata": {},
   "outputs": [
    {
     "data": {
      "text/plain": [
       "stepDisp (generic function with 1 method)"
      ]
     },
     "execution_count": 19,
     "metadata": {},
     "output_type": "execute_result"
    }
   ],
   "source": [
    " function   stepDisp(uh_in,sh_in,vApp)\n",
    "        uApp1(x) = VectorValue(0.0,0.0)\n",
    "        uApp2(x) = VectorValue(0.0,0.0)\n",
    "        uApp3(x) = VectorValue(0.0,-vApp)\n",
    "        U_Disp = TrialFESpace(V0_Disp,[uApp1,uApp2,uApp3])\n",
    "\n",
    "        a_Disp(u,v) = ∫( (ε(v) ⊙ (σ_mod∘(ε(u),ε(uh_in),sh_in)) ) )*dΩ\n",
    "        b_Disp(v) = 0.0\n",
    "        op_Disp = AffineFEOperator(a_Disp,b_Disp,U_Disp,V0_Disp)\n",
    "        uh_out = solve(op_Disp)\n",
    "    return uh_out\n",
    "end"
   ]
  },
  {
   "cell_type": "code",
   "execution_count": 20,
   "id": "da68f0c9",
   "metadata": {},
   "outputs": [],
   "source": [
    "cd(\"ResultsASymThreePtBendingTest\")"
   ]
  },
  {
   "cell_type": "code",
   "execution_count": 21,
   "id": "understood-refrigerator",
   "metadata": {},
   "outputs": [
    {
     "name": "stdout",
     "output_type": "stream",
     "text": [
      "\n",
      " Entering displacemtent step1 :0.001\n",
      " Relative error = 5.845118087529602e-17\n",
      " Entering displacemtent step2 :0.002\n",
      " Relative error = 1.6292992549815437e-6\n",
      " Relative error = 4.8878490730939695e-6\n",
      " Relative error = 1.2981542036839245e-10\n",
      " Entering displacemtent step3 :0.003\n",
      " Relative error = 8.430226700993038e-14\n",
      " Entering displacemtent step4 :0.004\n",
      " Relative error = 8.146039631310758e-6\n",
      " Relative error = 1.140406068550733e-5\n",
      " Relative error = 1.2435763731333733e-9\n",
      " Entering displacemtent step5 :0.005\n",
      " Relative error = 3.1691687539579457e-12\n",
      " Entering displacemtent step6 :0.006\n",
      " Relative error = 1.466012606737347e-5\n",
      " Relative error = 1.7917770016559695e-5\n",
      " Relative error = 4.2910052539282636e-9\n",
      " Entering displacemtent step7 :0.007\n",
      " Relative error = 2.5578288734500283e-11\n",
      " Entering displacemtent step8 :0.008\n",
      " Relative error = 2.1168861178622653e-5\n",
      " Relative error = 2.442734829941871e-5\n",
      " Relative error = 1.0447842573487776e-8\n",
      " Relative error = 1.1280130370787225e-10\n",
      " Entering displacemtent step9 :0.009000000000000001\n",
      " Relative error = 3.784444965909425e-12\n",
      " Entering displacemtent step10 :0.010000000000000002\n",
      " Relative error = 2.766952412845048e-5\n",
      " Relative error = 3.09311632668356e-5\n",
      " Relative error = 2.078905878757653e-8\n",
      " Relative error = 3.6706122132421005e-10\n",
      " Entering displacemtent step11 :0.010500000000000002\n",
      " Relative error = 1.9303218181979205e-11\n",
      " Entering displacemtent step12 :0.011000000000000003\n",
      " Relative error = 1.666151381123356e-5\n",
      " Relative error = 1.749522680771932e-5\n",
      " Relative error = 1.4381102817862237e-8\n",
      " Relative error = 3.0871677450715845e-10\n",
      " Entering displacemtent step13 :0.011500000000000003\n",
      " Relative error = 2.0381682527004833e-11\n",
      " Entering displacemtent step14 :0.012000000000000004\n",
      " Relative error = 1.829230047485552e-5\n",
      " Relative error = 1.91183525895794e-5\n",
      " Relative error = 1.927034435878267e-8\n",
      " Relative error = 4.894763900747891e-10\n",
      " Entering displacemtent step15 :0.012500000000000004\n",
      " Relative error = 3.904836947866507e-11\n",
      " Entering displacemtent step16 :0.013000000000000005\n",
      " Relative error = 1.9910311218023375e-5\n",
      " Relative error = 2.0740450612408926e-5\n",
      " Relative error = 2.404515856825512e-8\n",
      " Relative error = 7.514038852255662e-10\n",
      " Entering displacemtent step17 :0.013500000000000005\n",
      " Relative error = 7.158283459450118e-11\n",
      " Entering displacemtent step18 :0.014000000000000005\n",
      " Relative error = 2.152613636993844e-5\n",
      " Relative error = 2.2361329344571676e-5\n",
      " Relative error = 3.029327076039027e-8\n",
      " Relative error = 1.1369794568200646e-9\n",
      " Entering displacemtent step19 :0.014500000000000006\n",
      " Relative error = 1.2643813438954634e-10\n",
      " Entering displacemtent step20 :0.015000000000000006\n",
      " Relative error = 2.3139582166398472e-5\n",
      " Relative error = 2.3980349797339112e-5\n",
      " Relative error = 3.9979342192013204e-8\n",
      " Relative error = 1.6597184214157032e-9\n",
      " Entering displacemtent step21 :0.015500000000000007\n",
      " Relative error = 2.1653526682926583e-10\n",
      " Entering displacemtent step22 :0.016000000000000007\n",
      " Relative error = 2.4750540236990324e-5\n",
      " Relative error = 2.5598396757681025e-5\n",
      " Relative error = 4.6010331845247874e-8\n",
      " Relative error = 2.3728974206654834e-9\n",
      " Entering displacemtent step23 :0.016500000000000008\n",
      " Relative error = 3.6116479790003027e-10\n",
      " Entering displacemtent step24 :0.017000000000000008\n",
      " Relative error = 2.635844243135824e-5\n",
      " Relative error = 2.7214508237575435e-5\n",
      " Relative error = 9.023613230237421e-8\n",
      " Relative error = 3.3295763719630764e-9\n",
      " Entering displacemtent step25 :0.01750000000000001\n",
      " Relative error = 5.902423625348554e-10\n",
      " Entering displacemtent step26 :0.01800000000000001\n",
      " Relative error = 2.796521369762516e-5\n",
      " Relative error = 2.8844589248527566e-5\n",
      " Relative error = 7.017419363371985e-8\n",
      " Relative error = 4.6493008210125266e-9\n",
      " Entering displacemtent step27 :0.01850000000000001\n",
      " Relative error = 9.469716935089357e-10\n",
      " Entering displacemtent step28 :0.01900000000000001\n",
      " Relative error = 2.9567404083690862e-5\n",
      " Relative error = 3.0444946380185713e-5\n",
      " Relative error = 7.943354664271431e-8\n",
      " Relative error = 6.372407174530491e-9\n",
      " Entering displacemtent step29 :0.01950000000000001\n",
      " Relative error = 1.498441587608797e-9\n",
      " Entering displacemtent step30 :0.02000000000000001\n",
      " Relative error = 3.116476525133847e-5\n",
      " Relative error = 3.205572224450796e-5\n",
      " Relative error = 1.0165071857770032e-7\n",
      " Relative error = 8.729115229987468e-9\n",
      " Entering displacemtent step31 :0.02050000000000001\n",
      " Relative error = 2.3995953953656495e-9\n",
      " Entering displacemtent step32 :0.02100000000000001\n",
      " Relative error = 3.275809355481649e-5\n",
      " Relative error = 3.3664902344064555e-5\n",
      " Relative error = 1.1026296052765641e-7\n",
      " Relative error = 1.1883638358002293e-8\n",
      " Relative error = 5.290342230230408e-9\n",
      " Entering displacemtent step33 :0.021500000000000012\n",
      " Relative error = 1.2660494942728143e-9\n",
      " Entering displacemtent step34 :0.022000000000000013\n",
      " Relative error = 3.434488736165875e-5\n",
      " Relative error = 3.52716443082198e-5\n",
      " Relative error = 1.3005291939337907e-7\n",
      " Relative error = 2.2962881613620433e-8\n",
      " Relative error = 5.660796519106827e-9\n",
      " Entering displacemtent step35 :0.022500000000000013\n",
      " Relative error = 2.2169285274245285e-9\n",
      " Entering displacemtent step36 :0.023000000000000013\n",
      " Relative error = 3.592657324183692e-5\n",
      " Relative error = 3.6892224989383405e-5\n",
      " Relative error = 1.5137334047959956e-7\n",
      " Relative error = 2.1724020671205917e-8\n",
      " Relative error = 8.74136703939281e-9\n",
      " Entering displacemtent step37 :0.023500000000000014\n",
      " Relative error = 3.89680410973521e-9\n",
      " Entering displacemtent step38 :0.024000000000000014\n",
      " Relative error = 3.7501112246621115e-5\n",
      " Relative error = 3.847879589650301e-5\n",
      " Relative error = 1.7420068768924875e-7\n",
      " Relative error = 2.9560622678482782e-8\n",
      " Relative error = 1.3759117976599451e-8\n",
      " Relative error = 6.915614755567592e-9\n",
      " Entering displacemtent step39 :0.024500000000000015\n",
      " Relative error = 3.5590756043339912e-9\n",
      " Entering displacemtent step40 :0.025000000000000015\n",
      " Relative error = 3.906193598032607e-5\n",
      " Relative error = 4.0078066111804356e-5\n",
      " Relative error = 2.0221915143675185e-7\n",
      " Relative error = 4.039920270976048e-8\n",
      " Relative error = 3.6529018439536105e-8\n",
      " Relative error = 1.2474532657140243e-8\n",
      " Relative error = 7.331579484407324e-9\n",
      " Entering displacemtent step41 :0.025500000000000016\n",
      " Relative error = 4.371158469096312e-9\n",
      " Entering displacemtent step42 :0.026000000000000016\n",
      " Relative error = 4.060661530707071e-5\n",
      " Relative error = 4.167476868046702e-5\n",
      " Relative error = 2.645297326712028e-7\n",
      " Relative error = 5.845136332276869e-8\n",
      " Relative error = 3.4847424971450934e-8\n",
      " Relative error = 2.326565332927925e-8\n",
      " Relative error = 1.587447448218478e-8\n",
      " Relative error = 1.087485789072415e-8\n",
      " Relative error = 7.452412372164559e-9\n",
      " Entering displacemtent step43 :0.026500000000000017\n",
      " Relative error = 5.180486905835985e-9\n",
      " Entering displacemtent step44 :0.027000000000000017\n",
      " Relative error = 4.2115650668653586e-5\n",
      " Relative error = 4.3268267363051e-5\n",
      " Relative error = 2.734841609250717e-7\n",
      " Relative error = 8.244357353722257e-8\n",
      " Relative error = 5.955223703334627e-8\n",
      " Relative error = 6.096409980669691e-8\n",
      " Relative error = 3.7326260852379866e-8\n",
      " Relative error = 3.019112202472962e-8\n",
      " Relative error = 2.457778340054783e-8\n",
      " Relative error = 2.0345975714514343e-8\n",
      " Entering displacemtent step45 :0.027500000000000017\n",
      " Relative error = 1.6811382248248714e-8\n",
      " Relative error = 4.354929004297814e-5\n",
      " Relative error = 2.4865337246362104e-7\n",
      " Relative error = 1.2895522726136277e-7\n",
      " Relative error = 5.901040596437872e-8\n",
      " Relative error = 5.2266209495883193e-8\n",
      " Relative error = 4.7334985534398346e-8\n",
      " Relative error = 4.362171311572589e-8\n",
      " Relative error = 4.0437054232663656e-8\n",
      " Relative error = 4.747199760758044e-8\n",
      " Entering displacemtent step46 :0.028000000000000018\n",
      " Relative error = 3.597737432384995e-8\n",
      " Relative error = 4.431977226818332e-5\n",
      " Relative error = 3.8189446239024e-7\n",
      " Relative error = 1.0967065609073173e-7\n",
      " Relative error = 1.0672666239605863e-7\n",
      " Relative error = 1.107074606888874e-7\n",
      " Relative error = 1.1606397937135154e-7\n",
      " Relative error = 1.2401415632086645e-7\n",
      " Relative error = 1.34722304278233e-7\n",
      " Relative error = 1.486105020102224e-7\n",
      " Entering displacemtent step47 :0.02850000000000002\n",
      " Relative error = 1.6681453964765674e-7\n"
     ]
    },
    {
     "name": "stdout",
     "output_type": "stream",
     "text": [
      " Relative error = 4.4727848216126914e-5\n",
      " Relative error = 4.776404294118464e-7\n",
      " Relative error = 3.649933308137439e-7\n",
      " Relative error = 4.262994336533077e-7\n",
      " Relative error = 4.892209438364578e-7\n",
      " Relative error = 5.515229990029934e-7\n",
      " Relative error = 5.872544715648818e-7\n",
      " Relative error = 7.287757143612277e-7\n",
      " Relative error = 5.845689672767718e-7\n",
      " Entering displacemtent step48 :0.02900000000000002\n",
      " Relative error = 5.630632761945529e-7\n",
      " Relative error = 4.36974961183085e-5\n",
      " Relative error = 7.743550632941741e-7\n",
      " Relative error = 6.28332161368993e-7\n",
      " Relative error = 6.122899301343858e-7\n",
      " Relative error = 5.95937917135202e-7\n",
      " Relative error = 5.819294715293044e-7\n",
      " Relative error = 5.643244115796479e-7\n",
      " Relative error = 5.580313072138061e-7\n",
      " Relative error = 5.326516170976178e-7\n",
      " Entering displacemtent step49 :0.02950000000000002\n",
      " Relative error = 5.125531330008726e-7\n",
      " Relative error = 4.4037279255695545e-5\n",
      " Relative error = 8.068916601317169e-7\n",
      " Relative error = 8.585673931353527e-7\n",
      " Relative error = 6.092104722041467e-7\n",
      " Relative error = 5.941995483167758e-7\n",
      " Relative error = 6.007388303235188e-7\n",
      " Relative error = 6.637061440734847e-7\n",
      " Relative error = 5.890132462872903e-7\n",
      " Relative error = 5.552671028259813e-7\n",
      " Entering displacemtent step50 :0.03000000000000002\n",
      " Relative error = 5.415881313648167e-7\n",
      " Relative error = 4.479440840926373e-5\n",
      " Relative error = 7.975678526461104e-7\n",
      " Relative error = 6.529696312532525e-7\n",
      " Relative error = 6.517823550400569e-7\n",
      " Relative error = 7.454904271926967e-7\n",
      " Relative error = 6.094968576033277e-7\n",
      " Relative error = 5.968490326632198e-7\n",
      " Relative error = 5.877990295149757e-7\n",
      " Relative error = 6.254939495539975e-7\n",
      " Entering displacemtent step51 :0.03050000000000002\n",
      " Relative error = 5.987169472051195e-7\n",
      " Relative error = 4.546180015646664e-5\n",
      " Relative error = 9.105043896011952e-7\n",
      " Relative error = 7.642814636158065e-7\n",
      " Relative error = 9.172741117899789e-7\n",
      " Relative error = 7.076722999782456e-7\n",
      " Relative error = 7.066043329714704e-7\n",
      " Relative error = 7.430757836766903e-7\n",
      " Relative error = 8.204979103369197e-7\n",
      " Relative error = 7.525958163346741e-7\n",
      " Entering displacemtent step52 :0.03100000000000002\n",
      " Relative error = 7.755192551512765e-7\n",
      " Relative error = 4.5586896575369686e-5\n",
      " Relative error = 9.957378729160424e-7\n",
      " Relative error = 8.557791676687578e-7\n",
      " Relative error = 8.592900130420923e-7\n",
      " Relative error = 8.725062301616893e-7\n",
      " Relative error = 8.866954740002828e-7\n",
      " Relative error = 9.998359419569575e-7\n",
      " Relative error = 9.075720502367004e-7\n",
      " Relative error = 1.089158261393456e-6\n",
      " Entering displacemtent step53 :0.03150000000000002\n",
      " Relative error = 9.57669572842049e-7\n",
      " Relative error = 4.5695789312748546e-5\n",
      " Relative error = 1.207204684069492e-6\n",
      " Relative error = 1.1858431052038536e-6\n",
      " Relative error = 1.0989950510498565e-6\n",
      " Relative error = 1.140844843357576e-6\n",
      " Relative error = 1.0544349041054738e-6\n",
      " Relative error = 1.2715432346586195e-6\n",
      " Relative error = 1.2174780186433216e-6\n",
      " Relative error = 1.2129299716766587e-6\n",
      " Entering displacemtent step54 :0.03200000000000002\n",
      " Relative error = 1.1161623118840097e-6\n",
      " Relative error = 4.57951194028077e-5\n",
      " Relative error = 1.4228777604517455e-6\n",
      " Relative error = 1.363854819505693e-6\n",
      " Relative error = 1.2761648572457127e-6\n",
      " Relative error = 1.2672064451655402e-6\n",
      " Relative error = 1.4657001236636513e-6\n",
      " Relative error = 1.2616809824453057e-6\n",
      " Relative error = 1.3120859782996918e-6\n",
      " Relative error = 1.3538717525090957e-6\n",
      " Entering displacemtent step55 :0.03250000000000002\n",
      " Relative error = 1.4599716235594952e-6\n",
      " Relative error = 4.577014057564129e-5\n",
      " Relative error = 1.6676207925823707e-6\n",
      " Relative error = 1.5050750460853283e-6\n",
      " Relative error = 1.4855552275144115e-6\n",
      " Relative error = 1.460836772159782e-6\n",
      " Relative error = 1.465584862422145e-6\n",
      " Relative error = 1.513595544802052e-6\n",
      " Relative error = 1.5406185447533852e-6\n",
      " Relative error = 1.454236880483996e-6\n",
      " Entering displacemtent step56 :0.03300000000000002\n",
      " Relative error = 1.469683744277267e-6\n",
      " Relative error = 4.552286213441631e-5\n",
      " Relative error = 1.8571582165697917e-6\n",
      " Relative error = 1.7386683382113886e-6\n",
      " Relative error = 1.735789262116783e-6\n",
      " Relative error = 1.854551879168514e-6\n",
      " Relative error = 1.965596462988568e-6\n",
      " Relative error = 1.948078113032678e-6\n",
      " Relative error = 1.8207068496031656e-6\n",
      " Relative error = 1.7519556952052137e-6\n",
      " Entering displacemtent step57 :0.03350000000000002\n",
      " Relative error = 2.2322031188531287e-6\n",
      " Relative error = 4.502153082502326e-5\n",
      " Relative error = 2.2807290158871924e-6\n",
      " Relative error = 2.1985792832189092e-6\n",
      " Relative error = 1.9971265304967304e-6\n",
      " Relative error = 2.232723331183499e-6\n",
      " Relative error = 2.0882987647737173e-6\n",
      " Relative error = 2.038732357731318e-6\n",
      " Relative error = 2.071703183101452e-6\n",
      " Relative error = 2.0217295430963646e-6\n",
      " Entering displacemtent step58 :0.03400000000000002\n",
      " Relative error = 2.123500036274218e-6\n",
      " Relative error = 4.4670173793957914e-5\n",
      " Relative error = 2.5893337806281944e-6\n",
      " Relative error = 2.3973727613886715e-6\n",
      " Relative error = 2.3424193482206645e-6\n",
      " Relative error = 2.3803151504726613e-6\n",
      " Relative error = 2.5519456865292486e-6\n",
      " Relative error = 2.34862226920262e-6\n",
      " Relative error = 2.5605444597830734e-6\n",
      " Relative error = 2.359811077172988e-6\n",
      " Entering displacemtent step59 :0.034500000000000024\n",
      " Relative error = 2.3632568790823603e-6\n",
      " Relative error = 4.410470253067222e-5\n",
      " Relative error = 2.763389574610763e-6\n",
      " Relative error = 2.6898537944067966e-6\n",
      " Relative error = 2.7156965591661574e-6\n",
      " Relative error = 2.7029102388847243e-6\n",
      " Relative error = 2.7185632948207937e-6\n",
      " Relative error = 2.789181879501781e-6\n",
      " Relative error = 2.741188043269941e-6\n",
      " Relative error = 2.7240716851349446e-6\n",
      " Entering displacemtent step60 :0.035000000000000024\n",
      " Relative error = 2.743447098159737e-6\n",
      " Relative error = 4.3395796091948155e-5\n",
      " Relative error = 3.216126085401899e-6\n",
      " Relative error = 3.0907203724083373e-6\n",
      " Relative error = 3.3505441628191137e-6\n",
      " Relative error = 3.1167778989979764e-6\n",
      " Relative error = 3.367463937263965e-6\n",
      " Relative error = 3.1893980168975677e-6\n",
      " Relative error = 3.667914719242658e-6\n",
      " Relative error = 3.6214154865735106e-6\n",
      " Entering displacemtent step61 :0.035500000000000025\n",
      " Relative error = 3.2230212786567586e-6\n",
      " Relative error = 4.27035108886391e-5\n",
      " Relative error = 4.177468332225908e-6\n",
      " Relative error = 3.885965684408967e-6\n",
      " Relative error = 3.871140883687647e-6\n",
      " Relative error = 3.6004446297236608e-6\n",
      " Relative error = 3.656652123957092e-6\n",
      " Relative error = 3.7249782498752727e-6\n",
      " Relative error = 3.7384786560251945e-6\n",
      " Relative error = 3.854715455246936e-6\n",
      " Entering displacemtent step62 :0.036000000000000025\n",
      " Relative error = 4.059813999491354e-6\n",
      " Relative error = 4.1716025391064365e-5\n",
      " Relative error = 4.584982130853117e-6\n",
      " Relative error = 4.331735228547488e-6\n",
      " Relative error = 4.190631970148981e-6\n",
      " Relative error = 4.477840478290309e-6\n",
      " Relative error = 4.323358408744627e-6\n",
      " Relative error = 4.300685753400946e-6\n",
      " Relative error = 4.337796935342848e-6\n",
      " Relative error = 4.300418915056084e-6\n",
      " Entering displacemtent step63 :0.036500000000000025\n",
      " Relative error = 4.624313370430361e-6\n",
      " Relative error = 4.001193025113155e-5\n",
      " Relative error = 4.9817867060080385e-6\n",
      " Relative error = 5.063137385808128e-6\n",
      " Relative error = 5.085083576548057e-6\n",
      " Relative error = 4.93774237476312e-6\n",
      " Relative error = 4.962162447985728e-6\n",
      " Relative error = 5.14139145612021e-6\n",
      " Relative error = 5.042143195981027e-6\n",
      " Relative error = 5.4938424465743144e-6\n",
      " Entering displacemtent step64 :0.037000000000000026\n",
      " Relative error = 5.13920536085401e-6\n",
      " Relative error = 3.823629818040266e-5\n",
      " Relative error = 5.864688005576296e-6\n",
      " Relative error = 6.105240133235518e-6\n",
      " Relative error = 5.824011567754373e-6\n",
      " Relative error = 5.8036546298403936e-6\n",
      " Relative error = 6.078124032335115e-6\n",
      " Relative error = 6.299225459866595e-6\n",
      " Relative error = 6.366100566511459e-6\n",
      " Relative error = 6.015925412980715e-6\n",
      " Entering displacemtent step65 :0.037500000000000026\n",
      " Relative error = 6.0516993528904e-6\n",
      " Relative error = 3.6281829285403884e-5\n",
      " Relative error = 6.94025569706856e-6\n",
      " Relative error = 7.089526959397716e-6\n",
      " Relative error = 7.339977253565546e-6\n"
     ]
    },
    {
     "name": "stdout",
     "output_type": "stream",
     "text": [
      " Relative error = 6.915819563135763e-6\n",
      " Relative error = 7.033836697215228e-6\n",
      " Relative error = 7.710926199207393e-6\n",
      " Relative error = 7.669896135066088e-6\n",
      " Relative error = 7.563630742784573e-6\n",
      " Entering displacemtent step66 :0.03800000000000003\n",
      " Relative error = 7.65050138921349e-6\n",
      " Relative error = 3.3626607855240466e-5\n",
      " Relative error = 8.456138012113795e-6\n",
      " Relative error = 8.537022517848463e-6\n",
      " Relative error = 8.362678489012031e-6\n",
      " Relative error = 8.54160565606436e-6\n",
      " Relative error = 8.394723273974564e-6\n",
      " Relative error = 8.656430424157092e-6\n",
      " Relative error = 8.945760693608969e-6\n",
      " Relative error = 9.381585730800936e-6\n",
      " Entering displacemtent step67 :0.03850000000000003\n",
      " Relative error = 9.150613046393549e-6\n",
      " Relative error = 3.150705960459869e-5\n",
      " Relative error = 1.0769223833360709e-5\n",
      " Relative error = 1.0254016516033751e-5\n",
      " Relative error = 1.0361606576066452e-5\n",
      " Relative error = 1.0331625845791959e-5\n",
      " Relative error = 1.1485575926985956e-5\n",
      " Relative error = 1.09572935616295e-5\n",
      " Relative error = 1.1438263892074697e-5\n",
      " Relative error = 1.1376859541617971e-5\n",
      " Entering displacemtent step68 :0.03900000000000003\n",
      " Relative error = 1.1414964546320174e-5\n",
      " Relative error = 3.2298373271252234e-5\n",
      " Relative error = 1.3710545738840409e-5\n",
      " Relative error = 1.334585322362334e-5\n",
      " Relative error = 1.4581634103313384e-5\n",
      " Relative error = 1.4141183909574971e-5\n",
      " Relative error = 1.4517157565792365e-5\n",
      " Relative error = 1.4919876512106908e-5\n",
      " Relative error = 1.5334903330194025e-5\n",
      " Relative error = 1.6332148384118153e-5\n",
      " Entering displacemtent step69 :0.03950000000000003\n",
      " Relative error = 1.699860354334247e-5\n",
      " Relative error = 3.5973736503097715e-5\n",
      " Relative error = 2.00937728460769e-5\n",
      " Relative error = 2.0820416921323102e-5\n",
      " Relative error = 2.2191300295893266e-5\n",
      " Relative error = 2.3667992289058686e-5\n",
      " Relative error = 2.527244622285372e-5\n",
      " Relative error = 2.7690642973342362e-5\n",
      " Relative error = 3.163225572287915e-5\n",
      " Relative error = 3.670750301416129e-5\n",
      " Entering displacemtent step70 :0.04000000000000003\n",
      " Relative error = 4.7202851582756656e-5\n",
      " Relative error = 8.626608507105909e-5\n",
      " Relative error = 0.0001220546536813509\n",
      " Relative error = 0.00013780463472143933\n",
      " Relative error = 2.5117016435262565e-5\n",
      " Relative error = 5.329077141633481e-6\n",
      " Relative error = 2.0729704613894033e-6\n",
      " Relative error = 1.0872559286350712e-6\n",
      " Relative error = 6.659675987593743e-7\n",
      " Relative error = 3.554778272021449e-6\n",
      " Entering displacemtent step71 :0.04050000000000003\n",
      " Relative error = 2.6065968188836716e-6\n",
      " Relative error = 1.981769267373204e-5\n",
      " Relative error = 9.181712104815142e-6\n",
      " Relative error = 3.3741473032608694e-6\n",
      " Relative error = 2.040502382937484e-6\n",
      " Relative error = 3.59441582146963e-6\n",
      " Relative error = 1.8191685066745995e-6\n",
      " Relative error = 1.949647617978626e-6\n",
      " Relative error = 1.6652326775769353e-6\n",
      " Relative error = 2.3373627302152086e-6\n",
      " Entering displacemtent step72 :0.04100000000000003\n",
      " Relative error = 9.685084222477855e-7\n",
      " Relative error = 1.3675302614141857e-5\n",
      " Relative error = 7.125336670208356e-6\n",
      " Relative error = 2.160048423285795e-6\n",
      " Relative error = 3.321473681810888e-6\n",
      " Relative error = 2.660103790540081e-6\n",
      " Relative error = 5.0869910383057065e-6\n",
      " Relative error = 1.4086641522932135e-6\n",
      " Relative error = 1.6769096918061953e-6\n",
      " Relative error = 2.2974437706943074e-6\n",
      " Entering displacemtent step73 :0.04150000000000003\n",
      " Relative error = 2.9292877779380416e-6\n",
      " Relative error = 2.5440447826613548e-5\n",
      " Relative error = 7.77392971824322e-6\n",
      " Relative error = 9.773497243923904e-6\n",
      " Relative error = 2.967346464591996e-6\n",
      " Relative error = 2.0038176829455223e-5\n",
      " Relative error = 1.589656774803715e-5\n",
      " Relative error = 5.701323258549829e-6\n",
      " Relative error = 2.2840822717682017e-5\n",
      " Relative error = 6.456964961362316e-6\n",
      " Entering displacemtent step74 :0.04200000000000003\n",
      " Relative error = 2.523119231959706e-5\n",
      " Relative error = 2.560234342598021e-5\n",
      " Relative error = 2.900773613636354e-5\n",
      " Relative error = 9.992983077397548e-6\n",
      " Relative error = 2.7250506703583082e-5\n",
      " Relative error = 5.796196641873021e-6\n",
      " Relative error = 2.8285934405853813e-5\n",
      " Relative error = 2.0503037626014964e-5\n",
      " Relative error = 2.1612389536241824e-5\n",
      " Relative error = 2.1563096008533538e-5\n",
      " Entering displacemtent step75 :0.04250000000000003\n",
      " Relative error = 2.6368532849385382e-5"
     ]
    },
    {
     "ename": "LoadError",
     "evalue": "\u001b[91mInterruptException:\u001b[39m",
     "output_type": "error",
     "traceback": [
      "\u001b[91mInterruptException:\u001b[39m",
      "",
      "Stacktrace:",
      " [1] getindex! at /home/masiur/.julia/packages/Gridap/hcqdz/src/Arrays/LazyArrays.jl:178 [inlined]",
      " [2] _assemble_matrix_and_vector_fill!(::Type{SparseArrays.SparseMatrixCSC{Float64,Int64}}, ::Int64, ::Array{Int64,1}, ::Array{Int64,1}, ::Array{Float64,1}, ::Array{Float64,1}, ::Tuple{Tuple{Nothing,Gridap.Arrays.CachedArray{Float64,1,Array{Float64,1}},Tuple{Tuple{Tuple{Nothing,Nothing,Tuple{Tuple{Tuple{Nothing,Gridap.Arrays.CachedArray{Float64,2,Array{Float64,2}},Tuple{Nothing,Nothing,Tuple{Tuple{Tuple{Tuple{Nothing,Nothing,Tuple{Tuple{Tuple{Nothing,Nothing,Tuple{Tuple{Tuple{Nothing,Gridap.Arrays.CachedArray{VectorValue{2,Float64},1,Array{VectorValue{2,Float64},1}},Tuple{Gridap.Arrays.CachedArray{Int64,1,Array{Int64,1}}}},Gridap.Arrays.IndexItemPair{Int64,Array{VectorValue{2,Float64},1}}},Nothing}},Gridap.Arrays.IndexItemPair{Int64,TensorValue{2,2,Float64,4}}}}},Gridap.Arrays.IndexItemPair{Int64,Gridap.Fields.ConstantField{TensorValue{2,2,Float64,4}}}},Gridap.Arrays.CachedArray{TensorValue{2,2,Float64,4},1,Array{TensorValue{2,2,Float64,4},1}},Tuple{Nothing}},Gridap.Arrays.IndexItemPair{Int64,Array{TensorValue{2,2,Float64,4},1}}}}},Gridap.Arrays.IndexItemPair{Int64,Array{Float64,2}}},Tuple{Tuple{Nothing,Gridap.Arrays.CachedArray{Float64,1,Array{Float64,1}},Tuple{Tuple{Tuple{Nothing,Gridap.Arrays.CachedArray{Float64,2,Array{Float64,2}},Tuple{Nothing,Nothing}},Gridap.Arrays.IndexItemPair{Int64,Array{Float64,2}}},Nothing,Tuple{Tuple{Tuple{Tuple{Nothing,Nothing,Tuple{Tuple{Tuple{Nothing,Nothing,Tuple{Tuple{Tuple{Nothing,Gridap.Arrays.CachedArray{VectorValue{2,Float64},1,Array{VectorValue{2,Float64},1}},Tuple{Gridap.Arrays.CachedArray{Int64,1,Array{Int64,1}}}},Gridap.Arrays.IndexItemPair{Int64,Array{VectorValue{2,Float64},1}}},Nothing}},Gridap.Arrays.IndexItemPair{Int64,TensorValue{2,2,Float64,4}}}}},Gridap.Arrays.IndexItemPair{Int64,Gridap.Fields.ConstantField{TensorValue{2,2,Float64,4}}}},Gridap.Arrays.CachedArray{TensorValue{2,2,Float64,4},1,Array{TensorValue{2,2,Float64,4},1}},Tuple{Nothing}},Gridap.Arrays.IndexItemPair{Int64,Array{TensorValue{2,2,Float64,4},1}}}}},Gridap.Arrays.IndexItemPair{Int64,Array{Float64,1}}}}},Gridap.Arrays.IndexItemPair{Int64,Tuple{Array{Float64,2},Array{Float64,1}}}},Tuple{Tuple{Nothing,Gridap.Arrays.CachedArray{Float64,1,Array{Float64,1}},Tuple{Gridap.Arrays.CachedArray{Int32,1,Array{Int32,1}}}},Gridap.Arrays.IndexItemPair{Int64,Array{Float64,1}}},Nothing}},Gridap.Arrays.IndexItemPair{Int64,Tuple{Array{Float64,2},Array{Float64,1}}}}, ::Gridap.Arrays.CachedArray{Int32,1,Array{Int32,1}}, ::Gridap.Arrays.CachedArray{Int32,1,Array{Int32,1}}, ::Gridap.Arrays.LazyArray{FillArrays.Fill{Gridap.CellData.AttachDirichletMap,1,Tuple{Base.OneTo{Int64}}},Tuple{Array{Float64,2},Array{Float64,1}},1,Tuple{Gridap.Arrays.LazyArray{FillArrays.Fill{typeof(tuple),1,Tuple{Base.OneTo{Int64}}},Tuple{Array{Float64,2},Array{Float64,1}},1,Tuple{Gridap.Arrays.LazyArray{FillArrays.Fill{Gridap.Fields.IntegrationMap,1,Tuple{Base.OneTo{Int64}}},Array{Float64,2},1,Tuple{Gridap.Arrays.CompressedArray{Array{Float64,3},1,Array{Array{Float64,3},1},Array{Int8,1}},Gridap.Arrays.CompressedArray{Array{Float64,1},1,Array{Array{Float64,1},1},Array{Int8,1}},Gridap.Arrays.LazyArray{Gridap.Arrays.LazyArray{FillArrays.Fill{typeof(Gridap.Fields.constant_field),1,Tuple{Base.OneTo{Int64}}},Gridap.Fields.ConstantField{TensorValue{2,2,Float64,4}},1,Tuple{Gridap.Arrays.LazyArray{FillArrays.Fill{Gridap.Fields.LinearCombinationMap{Colon},1,Tuple{Base.OneTo{Int64}}},TensorValue{2,2,Float64,4},1,Tuple{Gridap.Arrays.LazyArray{FillArrays.Fill{Broadcasting{Reindex{Array{VectorValue{2,Float64},1}}},1,Tuple{Base.OneTo{Int64}}},Array{VectorValue{2,Float64},1},1,Tuple{Gridap.Arrays.Table{Int64,Array{Int64,1},Array{Int32,1}}}},Gridap.Arrays.CompressedArray{Array{VectorValue{2,Float64},1},1,Array{Array{VectorValue{2,Float64},1},1},Array{Int8,1}}}}}},Array{TensorValue{2,2,Float64,4},1},1,Tuple{Gridap.Arrays.CompressedArray{Array{VectorValue{2,Float64},1},1,Array{Array{VectorValue{2,Float64},1},1},Array{Int8,1}}}}}},Gridap.Arrays.LazyArray{FillArrays.Fill{Gridap.Fields.IntegrationMap,1,Tuple{Base.OneTo{Int64}}},Array{Float64,1},1,Tuple{Gridap.Arrays.LazyArray{FillArrays.Fill{Gridap.Fields.BroadcastingFieldOpMap{typeof(*)},1,Tuple{Base.OneTo{Int64}}},Array{Float64,2},1,Tuple{Gridap.Arrays.CompressedArray{Array{Float64,2},1,Array{Array{Float64,2},1},Array{Int8,1}},Array{Array{Float64,1},1}}},Gridap.Arrays.CompressedArray{Array{Float64,1},1,Array{Array{Float64,1},1},Array{Int8,1}},Gridap.Arrays.LazyArray{Gridap.Arrays.LazyArray{FillArrays.Fill{typeof(Gridap.Fields.constant_field),1,Tuple{Base.OneTo{Int64}}},Gridap.Fields.ConstantField{TensorValue{2,2,Float64,4}},1,Tuple{Gridap.Arrays.LazyArray{FillArrays.Fill{Gridap.Fields.LinearCombinationMap{Colon},1,Tuple{Base.OneTo{Int64}}},TensorValue{2,2,Float64,4},1,Tuple{Gridap.Arrays.LazyArray{FillArrays.Fill{Broadcasting{Reindex{Array{VectorValue{2,Float64},1}}},1,Tuple{Base.OneTo{Int64}}},Array{VectorValue{2,Float64},1},1,Tuple{Gridap.Arrays.Table{Int64,Array{Int64,1},Array{Int32,1}}}},Gridap.Arrays.CompressedArray{Array{VectorValue{2,Float64},1},1,Array{Array{VectorValue{2,Float64},1},1},Array{Int8,1}}}}}},Array{TensorValue{2,2,Float64,4},1},1,Tuple{Gridap.Arrays.CompressedArray{Array{VectorValue{2,Float64},1},1,Array{Array{VectorValue{2,Float64},1},1},Array{Int8,1}}}}}}}},Gridap.Arrays.LazyArray{FillArrays.Fill{Broadcasting{Gridap.Arrays.PosNegReindex{Array{Float64,1},Array{Float64,1}}},1,Tuple{Base.OneTo{Int64}}},Array{Float64,1},1,Tuple{Gridap.Arrays.Table{Int32,Array{Int32,1},Array{Int32,1}}}},FillArrays.Fill{Bool,1,Tuple{Base.OneTo{Int64}}}}}, ::Gridap.Arrays.Table{Int32,Array{Int32,1},Array{Int32,1}}, ::Gridap.Arrays.Table{Int32,Array{Int32,1},Array{Int32,1}}, ::Gridap.FESpaces.DefaultAssemblyStrategy) at /home/masiur/.julia/packages/Gridap/hcqdz/src/FESpaces/SparseMatrixAssemblers.jl:554",
      " [3] fill_matrix_and_vector_coo_numeric!(::Array{Int64,1}, ::Array{Int64,1}, ::Array{Float64,1}, ::Array{Float64,1}, ::Gridap.FESpaces.GenericSparseMatrixAssembler{SparseArrays.SparseMatrixCSC{Float64,Int64},Array{Float64,1}}, ::Tuple{Tuple{Array{Any,1},Array{Any,1},Array{Any,1}},Tuple{Array{Any,1},Array{Any,1},Array{Any,1}},Tuple{Array{Any,1},Array{Any,1}}}, ::Int64) at /home/masiur/.julia/packages/Gridap/hcqdz/src/FESpaces/SparseMatrixAssemblers.jl:538",
      " [4] fill_matrix_and_vector_coo_numeric! at /home/masiur/.julia/packages/Gridap/hcqdz/src/FESpaces/SparseMatrixAssemblers.jl:525 [inlined]",
      " [5] assemble_matrix_and_vector(::Gridap.FESpaces.GenericSparseMatrixAssembler{SparseArrays.SparseMatrixCSC{Float64,Int64},Array{Float64,1}}, ::Tuple{Tuple{Array{Any,1},Array{Any,1},Array{Any,1}},Tuple{Array{Any,1},Array{Any,1},Array{Any,1}},Tuple{Array{Any,1},Array{Any,1}}}) at /home/masiur/.julia/packages/Gridap/hcqdz/src/FESpaces/SparseMatrixAssemblers.jl:123",
      " [6] AffineFEOperator(::Gridap.FESpaces.var\"#61#62\"{var\"#a#1\"{Measure},var\"#l#2\"{CellState{Float64,Gridap.CellData.CellPoint{ReferenceDomain}},Measure}}, ::Gridap.FESpaces.GenericSparseMatrixAssembler{SparseArrays.SparseMatrixCSC{Float64,Int64},Array{Float64,1}}) at /home/masiur/.julia/packages/Gridap/hcqdz/src/FESpaces/AffineFEOperators.jl:34",
      " [7] AffineFEOperator(::Function, ::Gridap.FESpaces.UnconstrainedFESpace{Array{Float64,1}}, ::Vararg{Gridap.FESpaces.UnconstrainedFESpace{Array{Float64,1}},N} where N) at /home/masiur/.julia/packages/Gridap/hcqdz/src/FESpaces/AffineFEOperators.jl:41",
      " [8] AffineFEOperator(::var\"#a#1\"{Measure}, ::var\"#l#2\"{CellState{Float64,Gridap.CellData.CellPoint{ReferenceDomain}},Measure}, ::Gridap.FESpaces.UnconstrainedFESpace{Array{Float64,1}}, ::Vararg{Gridap.FESpaces.UnconstrainedFESpace{Array{Float64,1}},N} where N) at /home/masiur/.julia/packages/Gridap/hcqdz/src/FESpaces/AffineFEOperators.jl:45",
      " [9] project(::CellState{Float64,Gridap.CellData.CellPoint{ReferenceDomain}}, ::UnstructuredDiscreteModel{2,2,Float64,Oriented}, ::Measure, ::Int64) at ./In[12]:6",
      " [10] top-level scope at ./In[21]:29",
      " [11] include_string(::Function, ::Module, ::String, ::String) at ./loading.jl:1091"
     ]
    }
   ],
   "source": [
    "vApp = 0\n",
    "delv = 1e-3\n",
    "const vAppMax = 0.04\n",
    "innerMax = 10\n",
    "count = 0\n",
    "\n",
    "Load = Float64[]\n",
    "Displacement = Float64[]\n",
    "\n",
    "push!(Load, 0.0)\n",
    "push!(Displacement, 0.0)\n",
    "\n",
    "sPrev = CellState(1.0,dΩ)\n",
    "sh = project(sPrev,model,dΩ,order)\n",
    "ψPlusPrev = CellState(0.0,dΩ)\n",
    "\n",
    "while vApp .< vAppMax \n",
    "    count = count .+ 1\n",
    "    if vApp >= 1e-2\n",
    "        delv = 5e-4\n",
    "    elseif vApp >= 2e-2\n",
    "        delv = 1e-4\n",
    "    end\n",
    "    vApp = vApp .+ delv\n",
    "    print(\"\\n Entering displacemtent step$count :\", float(vApp))\n",
    "    \n",
    "   for inner = 1:innerMax\n",
    "        \n",
    "        ψhPlusPrev = project(ψPlusPrev,model,dΩ,order)\n",
    "        \n",
    "        RelErr = abs(sum(∫( Gc*lsp*∇(sh)⋅ ∇(sh) + 2*ψhPlusPrev*sh*sh + (Gc/lsp)*sh*sh)*dΩ-∫( (Gc/lsp)*sh)*dΩ))/abs(sum(∫( (Gc/lsp)*sh)*dΩ))\n",
    "        print(\"\\n Relative error = \",float(RelErr))\n",
    "        \n",
    "        sh = stepPhaseField(uh,ψhPlusPrev) \n",
    "        uh = stepDisp(uh,sh,vApp)\n",
    "        \n",
    "        ψhPos_in = ψPos∘(ε(uh))    \n",
    "        update_state!(new_EnergyState,ψPlusPrev,ψhPos_in)\n",
    "        \n",
    "        if  RelErr < 1e-8\n",
    "            break \n",
    "        end      \n",
    "    end\n",
    "    \n",
    "    Node_Force = sum(∫( n_Γ_Load ⋅ (σ_mod∘(ε(uh),ε(uh),sh)) ) *dΓ_Load)\n",
    "    \n",
    "    push!(Load, -Node_Force[2])\n",
    "    push!(Displacement, vApp)\n",
    "    if vApp <= 2.5e-2\n",
    "        if mod(count,50) == 0\n",
    "         writevtk(Ω,\"results_ASymThreePtBendingTestCaseC$count\",cellfields=\n",
    "        [\"uh\"=>uh,\"s\"=>sh , \"epsi\"=>ε(uh),\"sigma\"=>σ_elas∘(ε(uh))])\n",
    "        end\n",
    "    elseif vApp > 2.5e-2\n",
    "        writevtk(Ω,\"results_ASymThreePtBendingTestCaseC$count\",cellfields=\n",
    "        [\"uh\"=>uh,\"s\"=>sh , \"epsi\"=>ε(uh),\"sigma\"=>σ_elas∘(ε(uh))])\n",
    "    end\n",
    "end "
   ]
  },
  {
   "cell_type": "code",
   "execution_count": 22,
   "id": "4852b56b",
   "metadata": {},
   "outputs": [
    {
     "data": {
      "text/plain": [
       "([\"results_ASymThreePtBendingTestCaseC75.vtu\"],)"
      ]
     },
     "execution_count": 22,
     "metadata": {},
     "output_type": "execute_result"
    }
   ],
   "source": [
    " writevtk(Ω,\"results_ASymThreePtBendingTestCaseC$count\",cellfields=\n",
    "        [\"uh\"=>uh,\"s\"=>sh , \"epsi\"=>ε(uh),\"sigma\"=>σ_elas∘(ε(uh))])"
   ]
  },
  {
   "cell_type": "code",
   "execution_count": 23,
   "id": "extra-hopkins",
   "metadata": {
    "scrolled": true
   },
   "outputs": [
    {
     "data": {
      "image/png": "[encoded data removed]",
      "text/plain": [
       "Figure(PyObject <Figure size 640x480 with 1 Axes>)"
      ]
     },
     "metadata": {},
     "output_type": "display_data"
    },
    {
     "data": {
      "text/plain": [
       "1-element Array{PyCall.PyObject,1}:\n",
       " PyObject <matplotlib.lines.Line2D object at 0x7fe30147d520>"
      ]
     },
     "execution_count": 23,
     "metadata": {},
     "output_type": "execute_result"
    }
   ],
   "source": [
    "plot(Displacement,Load)"
   ]
  },
  {
   "cell_type": "code",
   "execution_count": 24,
   "id": "13ae73a4",
   "metadata": {},
   "outputs": [],
   "source": [
    "cd(\"../DispLoadASymThreePointBendingTest\")"
   ]
  },
  {
   "cell_type": "code",
   "execution_count": 25,
   "id": "88f90e63",
   "metadata": {},
   "outputs": [],
   "source": [
    "using DelimitedFiles\n",
    "Disp = writedlm( \"DispDataASymThreePointBendingTestCaseC.csv\",  Displacement, ',')\n",
    "Force = writedlm(\"LoadDataASymThreePointBendingTestCaseC.csv\",  Load, ',')"
   ]
  }
 ],
 "metadata": {
  "@webio": {
   "lastCommId": null,
   "lastKernelId": null
  },
  "kernelspec": {
   "display_name": "Julia 1.5.3",
   "language": "julia",
   "name": "julia-1.5"
  },
  "language_info": {
   "file_extension": ".jl",
   "mimetype": "application/julia",
   "name": "julia",
   "version": "1.5.3"
  }
 },
 "nbformat": 4,
 "nbformat_minor": 5
}
