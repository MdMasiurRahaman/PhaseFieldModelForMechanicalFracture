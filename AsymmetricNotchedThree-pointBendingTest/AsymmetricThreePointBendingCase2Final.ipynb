{
 "cells": [
  {
   "cell_type": "code",
   "execution_count": null,
   "id": "aware-aruba",
   "metadata": {},
   "outputs": [],
   "source": [
    "using Gmsh: gmsh\n",
    "using GridapGmsh\n",
    "using Gridap\n",
    "using Gridap.Geometry\n",
    "using Gridap.TensorValues\n",
    "using PyPlot"
   ]
  },
  {
   "cell_type": "code",
   "execution_count": null,
   "id": "prime-nigeria",
   "metadata": {},
   "outputs": [],
   "source": [
    "I2 = one(TensorValue{2,2,Float64})\n",
    "I4_sym = one(SymFourthOrderTensorValue{2,Float64})\n",
    "I4_vol = (1.0/2)*I4_sym\n",
    "I4_dev = I4_sym - I4_vol"
   ]
  },
  {
   "cell_type": "code",
   "execution_count": null,
   "id": "f4c527ce",
   "metadata": {},
   "outputs": [],
   "source": [
    "const L = 20.0\n",
    "const LL = 0.475.*L\n",
    "const LR = 0.525.*L\n",
    "\n",
    "const H = 8.0\n",
    "const CH = 1.5 #Crack height\n",
    "const CW = L/2000 #Crack Width\n",
    "const e₁ = 5.15\n",
    "const CP = L/2 - e₁\n",
    "const SD = 1.0\n",
    "const HP = 6.0\n",
    "const HR = 0.25\n",
    "const HH1 = 2.75\n",
    "const HH2 = 4.75\n",
    "const HH3 = 6.75\n",
    "const lsp = 0.01\n",
    "\n",
    "const hfc = lsp/50  #Mesh size parameter\n",
    "const hf = lsp/2.1 #Mesh size parameter\n",
    "const hfl = 50*hf  #Mesh size parameter\n",
    "const hfh = hf  #Mesh size parameter\n",
    "\n",
    "const h = 100*hf #Mesh size parameter\n",
    "\n",
    "θ = π/180\n",
    "cr1 = CP+(CW/2) + HP*tan(θ)\n",
    "cr2 = CP-(CW/2) + HP*tan(θ)\n",
    "\n",
    "const FMR = 40*lsp "
   ]
  },
  {
   "cell_type": "code",
   "execution_count": null,
   "id": "e5aa1114",
   "metadata": {},
   "outputs": [],
   "source": [
    "gmsh.initialize()\n",
    "gmsh.option.setNumber(\"General.Terminal\", 1)\n",
    "\n",
    "p1 = gmsh.model.geo.addPoint(CP+(CW/2), 0.0 , 0.0, h)\n",
    "p2 = gmsh.model.geo.addPoint(L-SD, 0.0, 0.0, h)\n",
    "p3 = gmsh.model.geo.addPoint(L, 0.0, 0.0, h)\n",
    "p4 = gmsh.model.geo.addPoint(L, H, 0.0, h)\n",
    "p5 = gmsh.model.geo.addPoint(LR, H, 0.0, hfl)\n",
    "p6 = gmsh.model.geo.addPoint(LL, H, 0.0, hfl)\n",
    "p7 = gmsh.model.geo.addPoint(0.0, H, 0.0, h)\n",
    "p8 = gmsh.model.geo.addPoint(0.0, 0.0, 0.0, h)\n",
    "p9 = gmsh.model.geo.addPoint(SD, 0.0, 0.0, h)\n",
    "p10 = gmsh.model.geo.addPoint(CP-(CW/2), 0.0, 0.0, h)\n",
    "p11 = gmsh.model.geo.addPoint(CP-(CW/2), CH, 0.0, hfc) \n",
    "p12 = gmsh.model.geo.addPoint(CP+(CW/2), CH, 0.0, hfc)  \n",
    "\n",
    "l1 = gmsh.model.geo.addLine(p1, p2)\n",
    "l2 = gmsh.model.geo.addLine(p2, p3)\n",
    "l3 = gmsh.model.geo.addLine(p3, p4)\n",
    "l4 = gmsh.model.geo.addLine(p4, p5)\n",
    "l5 = gmsh.model.geo.addLine(p5, p6)\n",
    "l6 = gmsh.model.geo.addLine(p6, p7)\n",
    "l7 = gmsh.model.geo.addLine(p7, p8)\n",
    "l8 = gmsh.model.geo.addLine(p8, p9)\n",
    "l9 = gmsh.model.geo.addLine(p9, p10) \n",
    "l10 = gmsh.model.geo.addLine(p10, p11) \n",
    "l11 = gmsh.model.geo.addLine(p11, p12) \n",
    "l12 = gmsh.model.geo.addLine(p12, p1) \n",
    "cl1 = gmsh.model.geo.addCurveLoop([l1,l2,l3,l4,l5,l6,l7,l8,l9,l10,l11,l12]) \n",
    "\n",
    "\n",
    "p13 = gmsh.model.geo.addPoint(HP-HR, HH1, 0.0, hfh)\n",
    "p14 = gmsh.model.geo.addPoint(HP+HR, HH1, 0.0, hfh)\n",
    "p15 = gmsh.model.geo.addPoint(HP, HH1, 0.0, hfh)\n",
    "\n",
    "ca1 = gmsh.model.geo.addCircleArc(p13, p15, p14)\n",
    "ca2 = gmsh.model.geo.addCircleArc(p14, p15, p13)\n",
    "cl2 = gmsh.model.geo.addCurveLoop([ca1,ca2])\n",
    "\n",
    "p16 = gmsh.model.geo.addPoint(HP-HR, HH2, 0.0, hfh)\n",
    "p17 = gmsh.model.geo.addPoint(HP+HR, HH2, 0.0, hfh)\n",
    "p18 = gmsh.model.geo.addPoint(HP, HH2, 0.0, hfh)\n",
    "\n",
    "ca3 = gmsh.model.geo.addCircleArc(p16, p18, p17)\n",
    "ca4 = gmsh.model.geo.addCircleArc(p17, p18, p16)\n",
    "cl3 = gmsh.model.geo.addCurveLoop([ca3,ca4])\n",
    "\n",
    "p19 = gmsh.model.geo.addPoint(HP-HR, HH3, 0.0, hfh)\n",
    "p20 = gmsh.model.geo.addPoint(HP+HR, HH3, 0.0, hfh)\n",
    "p21 = gmsh.model.geo.addPoint(HP, HH3, 0.0, hfh)\n",
    "\n",
    "ca5 = gmsh.model.geo.addCircleArc(p19, p21, p20)\n",
    "ca6 = gmsh.model.geo.addCircleArc(p20, p21, p19)\n",
    "cl4 = gmsh.model.geo.addCurveLoop([ca5,ca6])\n",
    "\n",
    "ps1 = gmsh.model.geo.addPlaneSurface([cl1,-cl2,-cl3,-cl4])\n",
    "\n",
    "pg1 = gmsh.model.addPhysicalGroup(2, [ps1])\n",
    "\n",
    "pg2 = gmsh.model.addPhysicalGroup(1, [l5])\n",
    "pg3 = gmsh.model.addPhysicalGroup(0, [p9])\n",
    "pg4 = gmsh.model.addPhysicalGroup(0, [p2])\n",
    "\n",
    "gmsh.model.setPhysicalName(2, pg1, \"Domain\")\n",
    "\n",
    "\n",
    "gmsh.model.setPhysicalName(1, pg2, \"LoadLine\")\n",
    "gmsh.model.setPhysicalName(0, pg3, \"LeftSupport\")\n",
    "gmsh.model.setPhysicalName(0, pg4, \"RightSupport\")\n",
    "\n",
    "p22 = gmsh.model.geo.addPoint(CP-(CW/2), 0.8*CH, 0.0, hf) \n",
    "p23 = gmsh.model.geo.addPoint(CP+(CW/2), 0.8*CH, 0.0, hf) \n",
    "\n",
    "p24 = gmsh.model.geo.addPoint(HP, cr1, 0.0, hf)\n",
    "p25 = gmsh.model.geo.addPoint(HP, cr2, 0.0, hf)\n",
    "\n",
    "l13 = gmsh.model.geo.addLine(p22, p24)\n",
    "l14 = gmsh.model.geo.addLine(p23, p25)\n",
    "\n",
    "\n",
    "gmsh.model.mesh.field.add(\"Distance\", 1)\n",
    "gmsh.model.mesh.field.setNumbers(1, \"EdgesList\", [l13,l14])\n",
    "\n",
    "gmsh.model.mesh.field.add(\"Threshold\", 2)\n",
    "gmsh.model.mesh.field.setNumber(2, \"IField\", 1)\n",
    "gmsh.model.mesh.field.setNumber(2, \"LcMin\", hf)\n",
    "gmsh.model.mesh.field.setNumber(2, \"LcMax\", h)\n",
    "gmsh.model.mesh.field.setNumber(2, \"DistMin\", FMR)\n",
    "gmsh.model.mesh.field.setNumber(2, \"DistMax\", 1.5*FMR)\n",
    "\n",
    "l15 = gmsh.model.geo.addLine(p24,p6)\n",
    "l16 = gmsh.model.geo.addLine(p23, p5)\n",
    "\n",
    "gmsh.model.mesh.field.add(\"Distance\", 3)\n",
    "gmsh.model.mesh.field.setNumbers(3, \"EdgesList\", [l15,l16])\n",
    "\n",
    "gmsh.model.mesh.field.add(\"Threshold\", 4)\n",
    "gmsh.model.mesh.field.setNumber(4, \"IField\", 3)\n",
    "gmsh.model.mesh.field.setNumber(4, \"LcMin\", hfl)\n",
    "gmsh.model.mesh.field.setNumber(4, \"LcMax\", h)\n",
    "gmsh.model.mesh.field.setNumber(4, \"DistMin\", FMR)\n",
    "gmsh.model.mesh.field.setNumber(4, \"DistMax\", 1.5*FMR)\n",
    "\n",
    "\n",
    "gmsh.model.mesh.field.add(\"Min\",5)\n",
    "gmsh.model.mesh.field.setNumbers(5, \"FieldsList\",[2,4])\n",
    "gmsh.model.mesh.field.setAsBackgroundMesh(5)\n",
    "gmsh.model.geo.synchronize()\n",
    "gmsh.model.mesh.generate(2)\n",
    "gmsh.write(\"AsymThreePtBending.msh\")\n",
    "gmsh.finalize()"
   ]
  },
  {
   "cell_type": "code",
   "execution_count": null,
   "id": "dangerous-preference",
   "metadata": {},
   "outputs": [],
   "source": [
    "model = GmshDiscreteModel(\"AsymThreePtBending.msh\")\n",
    "writevtk(model,\"AsymThreePtBending\")"
   ]
  },
  {
   "cell_type": "markdown",
   "id": "fundamental-blowing",
   "metadata": {},
   "source": [
    "## Input paramters for Phase Field Model"
   ]
  },
  {
   "cell_type": "markdown",
   "id": "foreign-anderson",
   "metadata": {},
   "source": [
    "#### Input elasticity parameters"
   ]
  },
  {
   "cell_type": "code",
   "execution_count": null,
   "id": "healthy-grave",
   "metadata": {},
   "outputs": [],
   "source": [
    "const E_mat = 4.75e5\n",
    "const ν_mat = 0.35\n",
    "\n",
    "G₁₂_mat = E_mat/(2*(1+ν_mat))"
   ]
  },
  {
   "cell_type": "markdown",
   "id": "waiting-uncle",
   "metadata": {},
   "source": [
    "#### Input fracture parameters"
   ]
  },
  {
   "cell_type": "code",
   "execution_count": null,
   "id": "otherwise-newman",
   "metadata": {},
   "outputs": [],
   "source": [
    "const Gc = 1.8\n",
    "const η = 1e-15"
   ]
  },
  {
   "cell_type": "markdown",
   "id": "a53a7322",
   "metadata": {},
   "source": [
    "## Constitutive Tensors"
   ]
  },
  {
   "cell_type": "code",
   "execution_count": null,
   "id": "e78be159",
   "metadata": {},
   "outputs": [],
   "source": [
    "function ElasFourthOrderConstTensor(E₁,E₂,ν₁₂,ν₂₁,G₁₂,PlanarState)\n",
    "    # 1 for Plane Stress and 2 Plane Strain Condition \n",
    "  if PlanarState == 1\n",
    "      C1111 = E₁/(1-ν₁₂*ν₂₁)\n",
    "      C1122 = (ν₂₁*E₁)/(1-ν₁₂*ν₂₁)\n",
    "      C1112 = 0.0\n",
    "      C2222 = E₂/(1-ν₁₂*ν₂₁)\n",
    "      C2212 = 0.0\n",
    "      C1212 = G₁₂     \n",
    "  elseif PlanarState == 2\n",
    "      C1111 = (E₁*(1-ν₁₂*ν₂₁))/((1+ν₁₂)*(1-ν₁₂-2*ν₁₂*ν₂₁))\n",
    "      C1122 = (ν₂₁*E₁)/(1-ν₁₂-2*ν₁₂*ν₂₁)\n",
    "      C1112 = 0.0\n",
    "      C2222 = (E₂*(1-ν₁₂))/(1-ν₁₂-2*ν₁₂*ν₂₁)\n",
    "      C2212 = 0.0\n",
    "      C1212 = G₁₂ \n",
    "  end\n",
    "  C_ten = SymFourthOrderTensorValue(C1111,C1112,C1122,C1112,C1212,C2212,C1122,C2212,C2222)\n",
    "    return  C_ten\n",
    "end\n",
    "const C_mat = ElasFourthOrderConstTensor(E_mat,E_mat,ν_mat,ν_mat,G₁₂_mat,2)"
   ]
  },
  {
   "cell_type": "markdown",
   "id": "e9ae9559",
   "metadata": {},
   "source": [
    "## Stress\n",
    "\n",
    "$\\sigma_{elas}(\\epsilon(\\boldsymbol{u})) =  \\mathbb{C}\\,\\boldsymbol{\\epsilon}$\n",
    "\n",
    "$\\sigma(\\epsilon(\\boldsymbol{u}),s) =  \\mathbb{C}_{mod}\\,\\boldsymbol{\\epsilon}$"
   ]
  },
  {
   "cell_type": "code",
   "execution_count": null,
   "id": "imperial-transportation",
   "metadata": {},
   "outputs": [],
   "source": [
    "σ_elas(ε) = C_mat ⊙ ε\n",
    "\n",
    "function σ_mod(ε, ε_in, s_in)  \n",
    " if tr(ε_in)  >= 0\n",
    "      σ = (s_in^2 + η)*σ_elas(ε)\n",
    "  elseif tr(ε_in) < 0\n",
    "      σ = (s_in^2 + η) *I4_dev ⊙ σ_elas(ε) + I4_vol⊙ σ_elas(ε)\n",
    "  end  \n",
    "    return σ\n",
    "end"
   ]
  },
  {
   "cell_type": "markdown",
   "id": "intensive-contents",
   "metadata": {},
   "source": [
    "### Elastic Strain Energy"
   ]
  },
  {
   "cell_type": "code",
   "execution_count": null,
   "id": "wanted-palestine",
   "metadata": {},
   "outputs": [],
   "source": [
    "function ψPos(ε_in)   \n",
    " if tr(ε_in) >= 0\n",
    "      ψPlus = 0.5*(ε_in ⊙ σ_elas(ε_in))\n",
    "  elseif tr(ε_in) < 0\n",
    "      ψPlus = 0.5*((I4_dev ⊙ σ_elas(ε_in)) ⊙ (I4_dev ⊙ ε_in)) \n",
    "  end  \n",
    "    return ψPlus\n",
    "end"
   ]
  },
  {
   "cell_type": "code",
   "execution_count": null,
   "id": "342c588e",
   "metadata": {},
   "outputs": [],
   "source": [
    "function new_EnergyState(ψPlusPrev_in,ψhPos_in)\n",
    "  ψPlus_in = ψhPos_in\n",
    "  if ψPlus_in >= ψPlusPrev_in\n",
    "    ψPlus_out = ψPlus_in\n",
    "  else\n",
    "    ψPlus_out = ψPlusPrev_in\n",
    "  end\n",
    "  true,ψPlus_out\n",
    "end"
   ]
  },
  {
   "cell_type": "markdown",
   "id": "spare-throw",
   "metadata": {},
   "source": [
    "## FE formulation"
   ]
  },
  {
   "cell_type": "code",
   "execution_count": null,
   "id": "musical-palmer",
   "metadata": {},
   "outputs": [],
   "source": [
    "function project(q,model,dΩ,order)\n",
    "  reffe = ReferenceFE(lagrangian,Float64,order)\n",
    "  V = FESpace(model,reffe,conformity=:L2)\n",
    "  a(u,v) = ∫( u*v )*dΩ\n",
    "  l(v) = ∫( v*q )*dΩ\n",
    "  op = AffineFEOperator(a,l,V,V)\n",
    "  qh = solve(op)\n",
    "  qh\n",
    "end"
   ]
  },
  {
   "cell_type": "code",
   "execution_count": null,
   "id": "french-place",
   "metadata": {},
   "outputs": [],
   "source": [
    "order = 1\n",
    "degree = 2*order"
   ]
  },
  {
   "cell_type": "code",
   "execution_count": null,
   "id": "intermediate-order",
   "metadata": {},
   "outputs": [],
   "source": [
    "Ω = Triangulation(model)\n",
    "dΩ = Measure(Ω,degree)"
   ]
  },
  {
   "cell_type": "code",
   "execution_count": null,
   "id": "wicked-dakota",
   "metadata": {},
   "outputs": [],
   "source": [
    "labels = get_face_labeling(model)\n",
    "LoadTagId = get_tag_from_name(labels,\"LoadLine\")\n",
    "Γ_Load = BoundaryTriangulation(model,tags = LoadTagId)\n",
    "dΓ_Load = Measure(Γ_Load,degree)\n",
    "n_Γ_Load = get_normal_vector(Γ_Load)"
   ]
  },
  {
   "cell_type": "code",
   "execution_count": null,
   "id": "cooperative-hometown",
   "metadata": {},
   "outputs": [],
   "source": [
    "reffe_PF = ReferenceFE(lagrangian,Float64,order)\n",
    "V0_PF = TestFESpace(model,reffe_PF;\n",
    "  conformity=:H1)\n",
    "U_PF = TrialFESpace(V0_PF)\n",
    "sh = zero(V0_PF)"
   ]
  },
  {
   "cell_type": "code",
   "execution_count": null,
   "id": "vietnamese-disney",
   "metadata": {},
   "outputs": [],
   "source": [
    "reffe_Disp = ReferenceFE(lagrangian,VectorValue{2,Float64},order)\n",
    "        V0_Disp = TestFESpace(model,reffe_Disp;\n",
    "          conformity=:H1,\n",
    "          dirichlet_tags=[\"LeftSupport\",\"RightSupport\",\"LoadLine\"],\n",
    "          dirichlet_masks=[(false,true), (true,true),(false,true)])\n",
    "\n",
    "uh = zero(V0_Disp)"
   ]
  },
  {
   "cell_type": "code",
   "execution_count": null,
   "id": "antique-italic",
   "metadata": {},
   "outputs": [],
   "source": [
    "function  stepPhaseField(uh_in,ψPlusPrev_in)\n",
    "        \n",
    "        a_PF(s,ϕ) = ∫( Gc*lsp*∇(ϕ)⋅ ∇(s) + 2*ψPlusPrev_in*s*ϕ + (Gc/lsp)*s*ϕ )*dΩ\n",
    "        b_PF(ϕ) = ∫( (Gc/lsp)*ϕ )*dΩ\n",
    "        op_PF = AffineFEOperator(a_PF,b_PF,U_PF,V0_PF)\n",
    "        sh_out = solve(op_PF)           \n",
    "    \n",
    "    return sh_out\n",
    "    \n",
    "end"
   ]
  },
  {
   "cell_type": "code",
   "execution_count": null,
   "id": "closing-mistress",
   "metadata": {},
   "outputs": [],
   "source": [
    " function   stepDisp(uh_in,sh_in,vApp)\n",
    "        uApp1(x) = VectorValue(0.0,0.0)\n",
    "        uApp2(x) = VectorValue(0.0,0.0)\n",
    "        uApp3(x) = VectorValue(0.0,-vApp)\n",
    "        U_Disp = TrialFESpace(V0_Disp,[uApp1,uApp2,uApp3])\n",
    "\n",
    "        a_Disp(u,v) = ∫( (ε(v) ⊙ (σ_mod∘(ε(u),ε(uh_in),sh_in)) ) )*dΩ\n",
    "        b_Disp(v) = 0.0\n",
    "        op_Disp = AffineFEOperator(a_Disp,b_Disp,U_Disp,V0_Disp)\n",
    "        uh_out = solve(op_Disp)\n",
    "    return uh_out\n",
    "end"
   ]
  },
  {
   "cell_type": "code",
   "execution_count": null,
   "id": "understood-refrigerator",
   "metadata": {},
   "outputs": [],
   "source": [
    "vApp = 0\n",
    "delv = 1e-3\n",
    "const vAppMax = 0.04\n",
    "innerMax = 10\n",
    "count = 0\n",
    "\n",
    "Load = Float64[]\n",
    "Displacement = Float64[]\n",
    "\n",
    "push!(Load, 0.0)\n",
    "push!(Displacement, 0.0)\n",
    "\n",
    "sPrev = CellState(1.0,dΩ)\n",
    "sh = project(sPrev,model,dΩ,order)\n",
    "ψPlusPrev = CellState(0.0,dΩ)\n",
    "\n",
    "while vApp .< vAppMax \n",
    "    count = count .+ 1\n",
    "    if vApp >= 2e-2\n",
    "        delv = 1e-4\n",
    "    elseif vApp >= 2.5e-2\n",
    "        delv = 1e-5\n",
    "    end\n",
    "    vApp = vApp .+ delv\n",
    "    print(\"\\n Entering displacemtent step$count :\", float(vApp))\n",
    "    \n",
    "   for inner = 1:innerMax\n",
    "        \n",
    "        ψhPlusPrev = project(ψPlusPrev,model,dΩ,order)\n",
    "        \n",
    "        RelErr = abs(sum(∫( Gc*lsp*∇(sh)⋅ ∇(sh) + 2*ψhPlusPrev*sh*sh + (Gc/lsp)*sh*sh)*dΩ-∫( (Gc/lsp)*sh)*dΩ))/abs(sum(∫( (Gc/lsp)*sh)*dΩ))\n",
    "        \n",
    "        sh = stepPhaseField(uh,ψhPlusPrev) \n",
    "        uh = stepDisp(uh,sh,vApp)\n",
    "        \n",
    "        ψhPos_in = ψPos∘(ε(uh))    \n",
    "        update_state!(new_EnergyState,ψPlusPrev,ψhPos_in)\n",
    "        \n",
    "        if  RelErr < 1e-8\n",
    "            break \n",
    "        end      \n",
    "    end\n",
    "    \n",
    "    Node_Force = sum(∫( n_Γ_Load ⋅ (σ_mod∘(ε(uh),ε(uh),sh)) ) *dΓ_Load)\n",
    "    \n",
    "    push!(Load, -Node_Force[2])\n",
    "    push!(Displacement, vApp)\n",
    "    \n",
    "    if vApp <= 3e-2\n",
    "        if mod(count,50) == 0\n",
    "             writevtk(Ω,\"results_ASymThreePtBendingTestCaseB$count\",cellfields=\n",
    "            [\"uh\"=>uh,\"s\"=>sh , \"epsi\"=>ε(uh),\"sigma\"=>σ_elas∘(ε(uh))])\n",
    "        end\n",
    "    elseif vApp > 3e-2\n",
    "             writevtk(Ω,\"results_ASymThreePtBendingTestCaseB$count\",cellfields=\n",
    "            [\"uh\"=>uh,\"s\"=>sh , \"epsi\"=>ε(uh),\"sigma\"=>σ_elas∘(ε(uh))])\n",
    "    end\n",
    "end "
   ]
  },
  {
   "cell_type": "code",
   "execution_count": null,
   "id": "4852b56b",
   "metadata": {},
   "outputs": [],
   "source": [
    " writevtk(Ω,\"results_ASymThreePtBendingTestCaseB$count\",cellfields=\n",
    "        [\"uh\"=>uh,\"s\"=>sh , \"epsi\"=>ε(uh),\"sigma\"=>σ_elas∘(ε(uh))])"
   ]
  },
  {
   "cell_type": "code",
   "execution_count": null,
   "id": "extra-hopkins",
   "metadata": {
    "scrolled": true
   },
   "outputs": [],
   "source": [
    "plot(Displacement,Load)"
   ]
  }
 ],
 "metadata": {
  "@webio": {
   "lastCommId": null,
   "lastKernelId": null
  },
  "kernelspec": {
   "display_name": "Julia 1.5.3",
   "language": "julia",
   "name": "julia-1.5"
  },
  "language_info": {
   "file_extension": ".jl",
   "mimetype": "application/julia",
   "name": "julia",
   "version": "1.5.3"
  }
 },
 "nbformat": 4,
 "nbformat_minor": 5
}
